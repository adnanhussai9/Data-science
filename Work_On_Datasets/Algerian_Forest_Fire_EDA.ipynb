{
 "cells": [
  {
   "cell_type": "markdown",
   "id": "260f3804",
   "metadata": {},
   "source": [
    "## Data Analysis on Algerian Forest Fire Dataset"
   ]
  },
  {
   "cell_type": "markdown",
   "id": "0c9ee721",
   "metadata": {},
   "source": [
    "#### Lifecycle of Machine Learning Project\n",
    "1. Understanding the Problem Statement\n",
    "2. Data Collection \n",
    "3. Exploratory Data Ananlysis\n",
    "4. Data Cleaning\n",
    "5. Data Pre-Processing\n",
    "6. Model Training\n",
    "7. Choose the best Model"
   ]
  },
  {
   "cell_type": "markdown",
   "id": "2efe089b",
   "metadata": {},
   "source": [
    "### <span style='color:Blue'> 1) Problem Statment   </span>\n",
    "\n",
    "    1. This dataset comprises information regarding fire in Algerian Forest\n",
    "    2. We have to extract if there is some relation between rain, temperature, and occurence of forest fire \n"
   ]
  },
  {
   "cell_type": "markdown",
   "id": "4fcbfb69",
   "metadata": {},
   "source": [
    "### <span style='color:Blue'>  Reading the Data   </span>"
   ]
  },
  {
   "cell_type": "code",
   "execution_count": 1,
   "id": "c8553802",
   "metadata": {},
   "outputs": [],
   "source": [
    "import numpy as np\n",
    "import pandas as pd\n",
    "import matplotlib.pyplot as plt\n",
    "import seaborn as sns"
   ]
  },
  {
   "cell_type": "code",
   "execution_count": 2,
   "id": "e5520697",
   "metadata": {},
   "outputs": [],
   "source": [
    "df=pd.read_csv(\"C:\\Downloads\\Algerian_forest_fires_dataset.csv\",header=1)"
   ]
  },
  {
   "cell_type": "code",
   "execution_count": 3,
   "id": "792d2d49",
   "metadata": {},
   "outputs": [
    {
     "data": {
      "text/html": [
       "<div>\n",
       "<style scoped>\n",
       "    .dataframe tbody tr th:only-of-type {\n",
       "        vertical-align: middle;\n",
       "    }\n",
       "\n",
       "    .dataframe tbody tr th {\n",
       "        vertical-align: top;\n",
       "    }\n",
       "\n",
       "    .dataframe thead th {\n",
       "        text-align: right;\n",
       "    }\n",
       "</style>\n",
       "<table border=\"1\" class=\"dataframe\">\n",
       "  <thead>\n",
       "    <tr style=\"text-align: right;\">\n",
       "      <th></th>\n",
       "      <th>day</th>\n",
       "      <th>month</th>\n",
       "      <th>year</th>\n",
       "      <th>Temperature</th>\n",
       "      <th>RH</th>\n",
       "      <th>Ws</th>\n",
       "      <th>Rain</th>\n",
       "      <th>FFMC</th>\n",
       "      <th>DMC</th>\n",
       "      <th>DC</th>\n",
       "      <th>ISI</th>\n",
       "      <th>BUI</th>\n",
       "      <th>FWI</th>\n",
       "      <th>Classes</th>\n",
       "    </tr>\n",
       "  </thead>\n",
       "  <tbody>\n",
       "    <tr>\n",
       "      <th>0</th>\n",
       "      <td>01</td>\n",
       "      <td>06</td>\n",
       "      <td>2012</td>\n",
       "      <td>29</td>\n",
       "      <td>57</td>\n",
       "      <td>18</td>\n",
       "      <td>0</td>\n",
       "      <td>65.7</td>\n",
       "      <td>3.4</td>\n",
       "      <td>7.6</td>\n",
       "      <td>1.3</td>\n",
       "      <td>3.4</td>\n",
       "      <td>0.5</td>\n",
       "      <td>not fire</td>\n",
       "    </tr>\n",
       "    <tr>\n",
       "      <th>1</th>\n",
       "      <td>02</td>\n",
       "      <td>06</td>\n",
       "      <td>2012</td>\n",
       "      <td>29</td>\n",
       "      <td>61</td>\n",
       "      <td>13</td>\n",
       "      <td>1.3</td>\n",
       "      <td>64.4</td>\n",
       "      <td>4.1</td>\n",
       "      <td>7.6</td>\n",
       "      <td>1</td>\n",
       "      <td>3.9</td>\n",
       "      <td>0.4</td>\n",
       "      <td>not fire</td>\n",
       "    </tr>\n",
       "    <tr>\n",
       "      <th>2</th>\n",
       "      <td>03</td>\n",
       "      <td>06</td>\n",
       "      <td>2012</td>\n",
       "      <td>26</td>\n",
       "      <td>82</td>\n",
       "      <td>22</td>\n",
       "      <td>13.1</td>\n",
       "      <td>47.1</td>\n",
       "      <td>2.5</td>\n",
       "      <td>7.1</td>\n",
       "      <td>0.3</td>\n",
       "      <td>2.7</td>\n",
       "      <td>0.1</td>\n",
       "      <td>not fire</td>\n",
       "    </tr>\n",
       "    <tr>\n",
       "      <th>3</th>\n",
       "      <td>04</td>\n",
       "      <td>06</td>\n",
       "      <td>2012</td>\n",
       "      <td>25</td>\n",
       "      <td>89</td>\n",
       "      <td>13</td>\n",
       "      <td>2.5</td>\n",
       "      <td>28.6</td>\n",
       "      <td>1.3</td>\n",
       "      <td>6.9</td>\n",
       "      <td>0</td>\n",
       "      <td>1.7</td>\n",
       "      <td>0</td>\n",
       "      <td>not fire</td>\n",
       "    </tr>\n",
       "    <tr>\n",
       "      <th>4</th>\n",
       "      <td>05</td>\n",
       "      <td>06</td>\n",
       "      <td>2012</td>\n",
       "      <td>27</td>\n",
       "      <td>77</td>\n",
       "      <td>16</td>\n",
       "      <td>0</td>\n",
       "      <td>64.8</td>\n",
       "      <td>3</td>\n",
       "      <td>14.2</td>\n",
       "      <td>1.2</td>\n",
       "      <td>3.9</td>\n",
       "      <td>0.5</td>\n",
       "      <td>not fire</td>\n",
       "    </tr>\n",
       "    <tr>\n",
       "      <th>...</th>\n",
       "      <td>...</td>\n",
       "      <td>...</td>\n",
       "      <td>...</td>\n",
       "      <td>...</td>\n",
       "      <td>...</td>\n",
       "      <td>...</td>\n",
       "      <td>...</td>\n",
       "      <td>...</td>\n",
       "      <td>...</td>\n",
       "      <td>...</td>\n",
       "      <td>...</td>\n",
       "      <td>...</td>\n",
       "      <td>...</td>\n",
       "      <td>...</td>\n",
       "    </tr>\n",
       "    <tr>\n",
       "      <th>241</th>\n",
       "      <td>26</td>\n",
       "      <td>09</td>\n",
       "      <td>2012</td>\n",
       "      <td>30</td>\n",
       "      <td>65</td>\n",
       "      <td>14</td>\n",
       "      <td>0</td>\n",
       "      <td>85.4</td>\n",
       "      <td>16</td>\n",
       "      <td>44.5</td>\n",
       "      <td>4.5</td>\n",
       "      <td>16.9</td>\n",
       "      <td>6.5</td>\n",
       "      <td>fire</td>\n",
       "    </tr>\n",
       "    <tr>\n",
       "      <th>242</th>\n",
       "      <td>27</td>\n",
       "      <td>09</td>\n",
       "      <td>2012</td>\n",
       "      <td>28</td>\n",
       "      <td>87</td>\n",
       "      <td>15</td>\n",
       "      <td>4.4</td>\n",
       "      <td>41.1</td>\n",
       "      <td>6.5</td>\n",
       "      <td>8</td>\n",
       "      <td>0.1</td>\n",
       "      <td>6.2</td>\n",
       "      <td>0</td>\n",
       "      <td>not fire</td>\n",
       "    </tr>\n",
       "    <tr>\n",
       "      <th>243</th>\n",
       "      <td>28</td>\n",
       "      <td>09</td>\n",
       "      <td>2012</td>\n",
       "      <td>27</td>\n",
       "      <td>87</td>\n",
       "      <td>29</td>\n",
       "      <td>0.5</td>\n",
       "      <td>45.9</td>\n",
       "      <td>3.5</td>\n",
       "      <td>7.9</td>\n",
       "      <td>0.4</td>\n",
       "      <td>3.4</td>\n",
       "      <td>0.2</td>\n",
       "      <td>not fire</td>\n",
       "    </tr>\n",
       "    <tr>\n",
       "      <th>244</th>\n",
       "      <td>29</td>\n",
       "      <td>09</td>\n",
       "      <td>2012</td>\n",
       "      <td>24</td>\n",
       "      <td>54</td>\n",
       "      <td>18</td>\n",
       "      <td>0.1</td>\n",
       "      <td>79.7</td>\n",
       "      <td>4.3</td>\n",
       "      <td>15.2</td>\n",
       "      <td>1.7</td>\n",
       "      <td>5.1</td>\n",
       "      <td>0.7</td>\n",
       "      <td>not fire</td>\n",
       "    </tr>\n",
       "    <tr>\n",
       "      <th>245</th>\n",
       "      <td>30</td>\n",
       "      <td>09</td>\n",
       "      <td>2012</td>\n",
       "      <td>24</td>\n",
       "      <td>64</td>\n",
       "      <td>15</td>\n",
       "      <td>0.2</td>\n",
       "      <td>67.3</td>\n",
       "      <td>3.8</td>\n",
       "      <td>16.5</td>\n",
       "      <td>1.2</td>\n",
       "      <td>4.8</td>\n",
       "      <td>0.5</td>\n",
       "      <td>not fire</td>\n",
       "    </tr>\n",
       "  </tbody>\n",
       "</table>\n",
       "<p>246 rows × 14 columns</p>\n",
       "</div>"
      ],
      "text/plain": [
       "    day month  year Temperature  RH  Ws Rain   FFMC  DMC    DC  ISI   BUI  \\\n",
       "0    01    06  2012          29  57  18     0  65.7  3.4   7.6  1.3   3.4   \n",
       "1    02    06  2012          29  61  13   1.3  64.4  4.1   7.6    1   3.9   \n",
       "2    03    06  2012          26  82  22  13.1  47.1  2.5   7.1  0.3   2.7   \n",
       "3    04    06  2012          25  89  13   2.5  28.6  1.3   6.9    0   1.7   \n",
       "4    05    06  2012          27  77  16     0  64.8    3  14.2  1.2   3.9   \n",
       "..   ..   ...   ...         ...  ..  ..   ...   ...  ...   ...  ...   ...   \n",
       "241  26    09  2012          30  65  14     0  85.4   16  44.5  4.5  16.9   \n",
       "242  27    09  2012          28  87  15   4.4  41.1  6.5     8  0.1   6.2   \n",
       "243  28    09  2012          27  87  29   0.5  45.9  3.5   7.9  0.4   3.4   \n",
       "244  29    09  2012          24  54  18   0.1  79.7  4.3  15.2  1.7   5.1   \n",
       "245  30    09  2012          24  64  15   0.2  67.3  3.8  16.5  1.2   4.8   \n",
       "\n",
       "     FWI     Classes    \n",
       "0    0.5   not fire     \n",
       "1    0.4   not fire     \n",
       "2    0.1   not fire     \n",
       "3      0   not fire     \n",
       "4    0.5   not fire     \n",
       "..   ...           ...  \n",
       "241  6.5       fire     \n",
       "242    0   not fire     \n",
       "243  0.2   not fire     \n",
       "244  0.7   not fire     \n",
       "245  0.5  not fire      \n",
       "\n",
       "[246 rows x 14 columns]"
      ]
     },
     "execution_count": 3,
     "metadata": {},
     "output_type": "execute_result"
    }
   ],
   "source": [
    "df"
   ]
  },
  {
   "cell_type": "code",
   "execution_count": 4,
   "id": "7d4d35c9",
   "metadata": {},
   "outputs": [
    {
     "data": {
      "text/html": [
       "<div>\n",
       "<style scoped>\n",
       "    .dataframe tbody tr th:only-of-type {\n",
       "        vertical-align: middle;\n",
       "    }\n",
       "\n",
       "    .dataframe tbody tr th {\n",
       "        vertical-align: top;\n",
       "    }\n",
       "\n",
       "    .dataframe thead th {\n",
       "        text-align: right;\n",
       "    }\n",
       "</style>\n",
       "<table border=\"1\" class=\"dataframe\">\n",
       "  <thead>\n",
       "    <tr style=\"text-align: right;\">\n",
       "      <th></th>\n",
       "      <th>day</th>\n",
       "      <th>month</th>\n",
       "      <th>year</th>\n",
       "      <th>Temperature</th>\n",
       "      <th>RH</th>\n",
       "      <th>Ws</th>\n",
       "      <th>Rain</th>\n",
       "      <th>FFMC</th>\n",
       "      <th>DMC</th>\n",
       "      <th>DC</th>\n",
       "      <th>ISI</th>\n",
       "      <th>BUI</th>\n",
       "      <th>FWI</th>\n",
       "      <th>Classes</th>\n",
       "    </tr>\n",
       "  </thead>\n",
       "  <tbody>\n",
       "    <tr>\n",
       "      <th>120</th>\n",
       "      <td>29</td>\n",
       "      <td>09</td>\n",
       "      <td>2012</td>\n",
       "      <td>26</td>\n",
       "      <td>80</td>\n",
       "      <td>16</td>\n",
       "      <td>1.8</td>\n",
       "      <td>47.4</td>\n",
       "      <td>2.9</td>\n",
       "      <td>7.7</td>\n",
       "      <td>0.3</td>\n",
       "      <td>3</td>\n",
       "      <td>0.1</td>\n",
       "      <td>not fire</td>\n",
       "    </tr>\n",
       "    <tr>\n",
       "      <th>121</th>\n",
       "      <td>30</td>\n",
       "      <td>09</td>\n",
       "      <td>2012</td>\n",
       "      <td>25</td>\n",
       "      <td>78</td>\n",
       "      <td>14</td>\n",
       "      <td>1.4</td>\n",
       "      <td>45</td>\n",
       "      <td>1.9</td>\n",
       "      <td>7.5</td>\n",
       "      <td>0.2</td>\n",
       "      <td>2.4</td>\n",
       "      <td>0.1</td>\n",
       "      <td>not fire</td>\n",
       "    </tr>\n",
       "    <tr>\n",
       "      <th>122</th>\n",
       "      <td>Sidi-Bel Abbes Region Dataset</td>\n",
       "      <td>NaN</td>\n",
       "      <td>NaN</td>\n",
       "      <td>NaN</td>\n",
       "      <td>NaN</td>\n",
       "      <td>NaN</td>\n",
       "      <td>NaN</td>\n",
       "      <td>NaN</td>\n",
       "      <td>NaN</td>\n",
       "      <td>NaN</td>\n",
       "      <td>NaN</td>\n",
       "      <td>NaN</td>\n",
       "      <td>NaN</td>\n",
       "      <td>NaN</td>\n",
       "    </tr>\n",
       "    <tr>\n",
       "      <th>123</th>\n",
       "      <td>day</td>\n",
       "      <td>month</td>\n",
       "      <td>year</td>\n",
       "      <td>Temperature</td>\n",
       "      <td>RH</td>\n",
       "      <td>Ws</td>\n",
       "      <td>Rain</td>\n",
       "      <td>FFMC</td>\n",
       "      <td>DMC</td>\n",
       "      <td>DC</td>\n",
       "      <td>ISI</td>\n",
       "      <td>BUI</td>\n",
       "      <td>FWI</td>\n",
       "      <td>Classes</td>\n",
       "    </tr>\n",
       "    <tr>\n",
       "      <th>124</th>\n",
       "      <td>01</td>\n",
       "      <td>06</td>\n",
       "      <td>2012</td>\n",
       "      <td>32</td>\n",
       "      <td>71</td>\n",
       "      <td>12</td>\n",
       "      <td>0.7</td>\n",
       "      <td>57.1</td>\n",
       "      <td>2.5</td>\n",
       "      <td>8.2</td>\n",
       "      <td>0.6</td>\n",
       "      <td>2.8</td>\n",
       "      <td>0.2</td>\n",
       "      <td>not fire</td>\n",
       "    </tr>\n",
       "    <tr>\n",
       "      <th>125</th>\n",
       "      <td>02</td>\n",
       "      <td>06</td>\n",
       "      <td>2012</td>\n",
       "      <td>30</td>\n",
       "      <td>73</td>\n",
       "      <td>13</td>\n",
       "      <td>4</td>\n",
       "      <td>55.7</td>\n",
       "      <td>2.7</td>\n",
       "      <td>7.8</td>\n",
       "      <td>0.6</td>\n",
       "      <td>2.9</td>\n",
       "      <td>0.2</td>\n",
       "      <td>not fire</td>\n",
       "    </tr>\n",
       "  </tbody>\n",
       "</table>\n",
       "</div>"
      ],
      "text/plain": [
       "                               day  month  year  Temperature   RH   Ws  Rain   \\\n",
       "120                             29     09  2012           26   80   16    1.8   \n",
       "121                             30     09  2012           25   78   14    1.4   \n",
       "122  Sidi-Bel Abbes Region Dataset    NaN   NaN          NaN  NaN  NaN    NaN   \n",
       "123                            day  month  year  Temperature   RH   Ws  Rain    \n",
       "124                             01     06  2012           32   71   12    0.7   \n",
       "125                             02     06  2012           30   73   13      4   \n",
       "\n",
       "     FFMC  DMC   DC  ISI  BUI  FWI    Classes    \n",
       "120  47.4  2.9  7.7  0.3    3  0.1  not fire     \n",
       "121    45  1.9  7.5  0.2  2.4  0.1  not fire     \n",
       "122   NaN  NaN  NaN  NaN  NaN  NaN          NaN  \n",
       "123  FFMC  DMC   DC  ISI  BUI  FWI    Classes    \n",
       "124  57.1  2.5  8.2  0.6  2.8  0.2  not fire     \n",
       "125  55.7  2.7  7.8  0.6  2.9  0.2  not fire     "
      ]
     },
     "execution_count": 4,
     "metadata": {},
     "output_type": "execute_result"
    }
   ],
   "source": [
    "df.iloc[120:126]"
   ]
  },
  {
   "cell_type": "code",
   "execution_count": 5,
   "id": "cb1b13e3",
   "metadata": {},
   "outputs": [
    {
     "data": {
      "text/plain": [
       "(246, 14)"
      ]
     },
     "execution_count": 5,
     "metadata": {},
     "output_type": "execute_result"
    }
   ],
   "source": [
    "df.shape"
   ]
  },
  {
   "cell_type": "markdown",
   "id": "962153d4",
   "metadata": {},
   "source": [
    "### <span style='color:Blue'>  Encoding   </span>"
   ]
  },
  {
   "cell_type": "code",
   "execution_count": 6,
   "id": "aee0df1b",
   "metadata": {},
   "outputs": [],
   "source": [
    "# For 'Bejaia' region we have given region column '0' and for 'Sidi-Bel Abbes' region '1'\n",
    "\n",
    "for index in range(df.shape[0]):\n",
    "    if index<122:\n",
    "        df.loc[index,'region']=0\n",
    "    else:\n",
    "        df.loc[index,'region']=1\n",
    "        "
   ]
  },
  {
   "cell_type": "code",
   "execution_count": 7,
   "id": "34568ad7",
   "metadata": {},
   "outputs": [
    {
     "data": {
      "text/html": [
       "<div>\n",
       "<style scoped>\n",
       "    .dataframe tbody tr th:only-of-type {\n",
       "        vertical-align: middle;\n",
       "    }\n",
       "\n",
       "    .dataframe tbody tr th {\n",
       "        vertical-align: top;\n",
       "    }\n",
       "\n",
       "    .dataframe thead th {\n",
       "        text-align: right;\n",
       "    }\n",
       "</style>\n",
       "<table border=\"1\" class=\"dataframe\">\n",
       "  <thead>\n",
       "    <tr style=\"text-align: right;\">\n",
       "      <th></th>\n",
       "      <th>day</th>\n",
       "      <th>month</th>\n",
       "      <th>year</th>\n",
       "      <th>Temperature</th>\n",
       "      <th>RH</th>\n",
       "      <th>Ws</th>\n",
       "      <th>Rain</th>\n",
       "      <th>FFMC</th>\n",
       "      <th>DMC</th>\n",
       "      <th>DC</th>\n",
       "      <th>ISI</th>\n",
       "      <th>BUI</th>\n",
       "      <th>FWI</th>\n",
       "      <th>Classes</th>\n",
       "      <th>region</th>\n",
       "    </tr>\n",
       "  </thead>\n",
       "  <tbody>\n",
       "    <tr>\n",
       "      <th>0</th>\n",
       "      <td>01</td>\n",
       "      <td>06</td>\n",
       "      <td>2012</td>\n",
       "      <td>29</td>\n",
       "      <td>57</td>\n",
       "      <td>18</td>\n",
       "      <td>0</td>\n",
       "      <td>65.7</td>\n",
       "      <td>3.4</td>\n",
       "      <td>7.6</td>\n",
       "      <td>1.3</td>\n",
       "      <td>3.4</td>\n",
       "      <td>0.5</td>\n",
       "      <td>not fire</td>\n",
       "      <td>0.0</td>\n",
       "    </tr>\n",
       "    <tr>\n",
       "      <th>1</th>\n",
       "      <td>02</td>\n",
       "      <td>06</td>\n",
       "      <td>2012</td>\n",
       "      <td>29</td>\n",
       "      <td>61</td>\n",
       "      <td>13</td>\n",
       "      <td>1.3</td>\n",
       "      <td>64.4</td>\n",
       "      <td>4.1</td>\n",
       "      <td>7.6</td>\n",
       "      <td>1</td>\n",
       "      <td>3.9</td>\n",
       "      <td>0.4</td>\n",
       "      <td>not fire</td>\n",
       "      <td>0.0</td>\n",
       "    </tr>\n",
       "    <tr>\n",
       "      <th>2</th>\n",
       "      <td>03</td>\n",
       "      <td>06</td>\n",
       "      <td>2012</td>\n",
       "      <td>26</td>\n",
       "      <td>82</td>\n",
       "      <td>22</td>\n",
       "      <td>13.1</td>\n",
       "      <td>47.1</td>\n",
       "      <td>2.5</td>\n",
       "      <td>7.1</td>\n",
       "      <td>0.3</td>\n",
       "      <td>2.7</td>\n",
       "      <td>0.1</td>\n",
       "      <td>not fire</td>\n",
       "      <td>0.0</td>\n",
       "    </tr>\n",
       "    <tr>\n",
       "      <th>3</th>\n",
       "      <td>04</td>\n",
       "      <td>06</td>\n",
       "      <td>2012</td>\n",
       "      <td>25</td>\n",
       "      <td>89</td>\n",
       "      <td>13</td>\n",
       "      <td>2.5</td>\n",
       "      <td>28.6</td>\n",
       "      <td>1.3</td>\n",
       "      <td>6.9</td>\n",
       "      <td>0</td>\n",
       "      <td>1.7</td>\n",
       "      <td>0</td>\n",
       "      <td>not fire</td>\n",
       "      <td>0.0</td>\n",
       "    </tr>\n",
       "    <tr>\n",
       "      <th>4</th>\n",
       "      <td>05</td>\n",
       "      <td>06</td>\n",
       "      <td>2012</td>\n",
       "      <td>27</td>\n",
       "      <td>77</td>\n",
       "      <td>16</td>\n",
       "      <td>0</td>\n",
       "      <td>64.8</td>\n",
       "      <td>3</td>\n",
       "      <td>14.2</td>\n",
       "      <td>1.2</td>\n",
       "      <td>3.9</td>\n",
       "      <td>0.5</td>\n",
       "      <td>not fire</td>\n",
       "      <td>0.0</td>\n",
       "    </tr>\n",
       "  </tbody>\n",
       "</table>\n",
       "</div>"
      ],
      "text/plain": [
       "  day month  year Temperature  RH  Ws Rain   FFMC  DMC    DC  ISI  BUI  FWI  \\\n",
       "0  01    06  2012          29  57  18     0  65.7  3.4   7.6  1.3  3.4  0.5   \n",
       "1  02    06  2012          29  61  13   1.3  64.4  4.1   7.6    1  3.9  0.4   \n",
       "2  03    06  2012          26  82  22  13.1  47.1  2.5   7.1  0.3  2.7  0.1   \n",
       "3  04    06  2012          25  89  13   2.5  28.6  1.3   6.9    0  1.7    0   \n",
       "4  05    06  2012          27  77  16     0  64.8    3  14.2  1.2  3.9  0.5   \n",
       "\n",
       "     Classes    region  \n",
       "0  not fire        0.0  \n",
       "1  not fire        0.0  \n",
       "2  not fire        0.0  \n",
       "3  not fire        0.0  \n",
       "4  not fire        0.0  "
      ]
     },
     "execution_count": 7,
     "metadata": {},
     "output_type": "execute_result"
    }
   ],
   "source": [
    "df.head()"
   ]
  },
  {
   "cell_type": "code",
   "execution_count": 8,
   "id": "0606cb79",
   "metadata": {},
   "outputs": [
    {
     "data": {
      "text/html": [
       "<div>\n",
       "<style scoped>\n",
       "    .dataframe tbody tr th:only-of-type {\n",
       "        vertical-align: middle;\n",
       "    }\n",
       "\n",
       "    .dataframe tbody tr th {\n",
       "        vertical-align: top;\n",
       "    }\n",
       "\n",
       "    .dataframe thead th {\n",
       "        text-align: right;\n",
       "    }\n",
       "</style>\n",
       "<table border=\"1\" class=\"dataframe\">\n",
       "  <thead>\n",
       "    <tr style=\"text-align: right;\">\n",
       "      <th></th>\n",
       "      <th>day</th>\n",
       "      <th>month</th>\n",
       "      <th>year</th>\n",
       "      <th>Temperature</th>\n",
       "      <th>RH</th>\n",
       "      <th>Ws</th>\n",
       "      <th>Rain</th>\n",
       "      <th>FFMC</th>\n",
       "      <th>DMC</th>\n",
       "      <th>DC</th>\n",
       "      <th>ISI</th>\n",
       "      <th>BUI</th>\n",
       "      <th>FWI</th>\n",
       "      <th>Classes</th>\n",
       "      <th>region</th>\n",
       "    </tr>\n",
       "  </thead>\n",
       "  <tbody>\n",
       "    <tr>\n",
       "      <th>241</th>\n",
       "      <td>26</td>\n",
       "      <td>09</td>\n",
       "      <td>2012</td>\n",
       "      <td>30</td>\n",
       "      <td>65</td>\n",
       "      <td>14</td>\n",
       "      <td>0</td>\n",
       "      <td>85.4</td>\n",
       "      <td>16</td>\n",
       "      <td>44.5</td>\n",
       "      <td>4.5</td>\n",
       "      <td>16.9</td>\n",
       "      <td>6.5</td>\n",
       "      <td>fire</td>\n",
       "      <td>1.0</td>\n",
       "    </tr>\n",
       "    <tr>\n",
       "      <th>242</th>\n",
       "      <td>27</td>\n",
       "      <td>09</td>\n",
       "      <td>2012</td>\n",
       "      <td>28</td>\n",
       "      <td>87</td>\n",
       "      <td>15</td>\n",
       "      <td>4.4</td>\n",
       "      <td>41.1</td>\n",
       "      <td>6.5</td>\n",
       "      <td>8</td>\n",
       "      <td>0.1</td>\n",
       "      <td>6.2</td>\n",
       "      <td>0</td>\n",
       "      <td>not fire</td>\n",
       "      <td>1.0</td>\n",
       "    </tr>\n",
       "    <tr>\n",
       "      <th>243</th>\n",
       "      <td>28</td>\n",
       "      <td>09</td>\n",
       "      <td>2012</td>\n",
       "      <td>27</td>\n",
       "      <td>87</td>\n",
       "      <td>29</td>\n",
       "      <td>0.5</td>\n",
       "      <td>45.9</td>\n",
       "      <td>3.5</td>\n",
       "      <td>7.9</td>\n",
       "      <td>0.4</td>\n",
       "      <td>3.4</td>\n",
       "      <td>0.2</td>\n",
       "      <td>not fire</td>\n",
       "      <td>1.0</td>\n",
       "    </tr>\n",
       "    <tr>\n",
       "      <th>244</th>\n",
       "      <td>29</td>\n",
       "      <td>09</td>\n",
       "      <td>2012</td>\n",
       "      <td>24</td>\n",
       "      <td>54</td>\n",
       "      <td>18</td>\n",
       "      <td>0.1</td>\n",
       "      <td>79.7</td>\n",
       "      <td>4.3</td>\n",
       "      <td>15.2</td>\n",
       "      <td>1.7</td>\n",
       "      <td>5.1</td>\n",
       "      <td>0.7</td>\n",
       "      <td>not fire</td>\n",
       "      <td>1.0</td>\n",
       "    </tr>\n",
       "    <tr>\n",
       "      <th>245</th>\n",
       "      <td>30</td>\n",
       "      <td>09</td>\n",
       "      <td>2012</td>\n",
       "      <td>24</td>\n",
       "      <td>64</td>\n",
       "      <td>15</td>\n",
       "      <td>0.2</td>\n",
       "      <td>67.3</td>\n",
       "      <td>3.8</td>\n",
       "      <td>16.5</td>\n",
       "      <td>1.2</td>\n",
       "      <td>4.8</td>\n",
       "      <td>0.5</td>\n",
       "      <td>not fire</td>\n",
       "      <td>1.0</td>\n",
       "    </tr>\n",
       "  </tbody>\n",
       "</table>\n",
       "</div>"
      ],
      "text/plain": [
       "    day month  year Temperature  RH  Ws Rain   FFMC  DMC    DC  ISI   BUI  \\\n",
       "241  26    09  2012          30  65  14     0  85.4   16  44.5  4.5  16.9   \n",
       "242  27    09  2012          28  87  15   4.4  41.1  6.5     8  0.1   6.2   \n",
       "243  28    09  2012          27  87  29   0.5  45.9  3.5   7.9  0.4   3.4   \n",
       "244  29    09  2012          24  54  18   0.1  79.7  4.3  15.2  1.7   5.1   \n",
       "245  30    09  2012          24  64  15   0.2  67.3  3.8  16.5  1.2   4.8   \n",
       "\n",
       "     FWI     Classes    region  \n",
       "241  6.5       fire        1.0  \n",
       "242    0   not fire        1.0  \n",
       "243  0.2   not fire        1.0  \n",
       "244  0.7   not fire        1.0  \n",
       "245  0.5  not fire         1.0  "
      ]
     },
     "execution_count": 8,
     "metadata": {},
     "output_type": "execute_result"
    }
   ],
   "source": [
    "df.tail()"
   ]
  },
  {
   "cell_type": "code",
   "execution_count": 9,
   "id": "12463d6a",
   "metadata": {},
   "outputs": [
    {
     "data": {
      "text/html": [
       "<div>\n",
       "<style scoped>\n",
       "    .dataframe tbody tr th:only-of-type {\n",
       "        vertical-align: middle;\n",
       "    }\n",
       "\n",
       "    .dataframe tbody tr th {\n",
       "        vertical-align: top;\n",
       "    }\n",
       "\n",
       "    .dataframe thead th {\n",
       "        text-align: right;\n",
       "    }\n",
       "</style>\n",
       "<table border=\"1\" class=\"dataframe\">\n",
       "  <thead>\n",
       "    <tr style=\"text-align: right;\">\n",
       "      <th></th>\n",
       "      <th>day</th>\n",
       "      <th>month</th>\n",
       "      <th>year</th>\n",
       "      <th>Temperature</th>\n",
       "      <th>RH</th>\n",
       "      <th>Ws</th>\n",
       "      <th>Rain</th>\n",
       "      <th>FFMC</th>\n",
       "      <th>DMC</th>\n",
       "      <th>DC</th>\n",
       "      <th>ISI</th>\n",
       "      <th>BUI</th>\n",
       "      <th>FWI</th>\n",
       "      <th>Classes</th>\n",
       "      <th>region</th>\n",
       "    </tr>\n",
       "  </thead>\n",
       "  <tbody>\n",
       "    <tr>\n",
       "      <th>120</th>\n",
       "      <td>29</td>\n",
       "      <td>09</td>\n",
       "      <td>2012</td>\n",
       "      <td>26</td>\n",
       "      <td>80</td>\n",
       "      <td>16</td>\n",
       "      <td>1.8</td>\n",
       "      <td>47.4</td>\n",
       "      <td>2.9</td>\n",
       "      <td>7.7</td>\n",
       "      <td>0.3</td>\n",
       "      <td>3</td>\n",
       "      <td>0.1</td>\n",
       "      <td>not fire</td>\n",
       "      <td>0.0</td>\n",
       "    </tr>\n",
       "    <tr>\n",
       "      <th>121</th>\n",
       "      <td>30</td>\n",
       "      <td>09</td>\n",
       "      <td>2012</td>\n",
       "      <td>25</td>\n",
       "      <td>78</td>\n",
       "      <td>14</td>\n",
       "      <td>1.4</td>\n",
       "      <td>45</td>\n",
       "      <td>1.9</td>\n",
       "      <td>7.5</td>\n",
       "      <td>0.2</td>\n",
       "      <td>2.4</td>\n",
       "      <td>0.1</td>\n",
       "      <td>not fire</td>\n",
       "      <td>0.0</td>\n",
       "    </tr>\n",
       "    <tr>\n",
       "      <th>122</th>\n",
       "      <td>Sidi-Bel Abbes Region Dataset</td>\n",
       "      <td>NaN</td>\n",
       "      <td>NaN</td>\n",
       "      <td>NaN</td>\n",
       "      <td>NaN</td>\n",
       "      <td>NaN</td>\n",
       "      <td>NaN</td>\n",
       "      <td>NaN</td>\n",
       "      <td>NaN</td>\n",
       "      <td>NaN</td>\n",
       "      <td>NaN</td>\n",
       "      <td>NaN</td>\n",
       "      <td>NaN</td>\n",
       "      <td>NaN</td>\n",
       "      <td>1.0</td>\n",
       "    </tr>\n",
       "    <tr>\n",
       "      <th>123</th>\n",
       "      <td>day</td>\n",
       "      <td>month</td>\n",
       "      <td>year</td>\n",
       "      <td>Temperature</td>\n",
       "      <td>RH</td>\n",
       "      <td>Ws</td>\n",
       "      <td>Rain</td>\n",
       "      <td>FFMC</td>\n",
       "      <td>DMC</td>\n",
       "      <td>DC</td>\n",
       "      <td>ISI</td>\n",
       "      <td>BUI</td>\n",
       "      <td>FWI</td>\n",
       "      <td>Classes</td>\n",
       "      <td>1.0</td>\n",
       "    </tr>\n",
       "    <tr>\n",
       "      <th>124</th>\n",
       "      <td>01</td>\n",
       "      <td>06</td>\n",
       "      <td>2012</td>\n",
       "      <td>32</td>\n",
       "      <td>71</td>\n",
       "      <td>12</td>\n",
       "      <td>0.7</td>\n",
       "      <td>57.1</td>\n",
       "      <td>2.5</td>\n",
       "      <td>8.2</td>\n",
       "      <td>0.6</td>\n",
       "      <td>2.8</td>\n",
       "      <td>0.2</td>\n",
       "      <td>not fire</td>\n",
       "      <td>1.0</td>\n",
       "    </tr>\n",
       "  </tbody>\n",
       "</table>\n",
       "</div>"
      ],
      "text/plain": [
       "                               day  month  year  Temperature   RH   Ws  Rain   \\\n",
       "120                             29     09  2012           26   80   16    1.8   \n",
       "121                             30     09  2012           25   78   14    1.4   \n",
       "122  Sidi-Bel Abbes Region Dataset    NaN   NaN          NaN  NaN  NaN    NaN   \n",
       "123                            day  month  year  Temperature   RH   Ws  Rain    \n",
       "124                             01     06  2012           32   71   12    0.7   \n",
       "\n",
       "     FFMC  DMC   DC  ISI  BUI  FWI    Classes    region  \n",
       "120  47.4  2.9  7.7  0.3    3  0.1  not fire        0.0  \n",
       "121    45  1.9  7.5  0.2  2.4  0.1  not fire        0.0  \n",
       "122   NaN  NaN  NaN  NaN  NaN  NaN          NaN     1.0  \n",
       "123  FFMC  DMC   DC  ISI  BUI  FWI    Classes       1.0  \n",
       "124  57.1  2.5  8.2  0.6  2.8  0.2  not fire        1.0  "
      ]
     },
     "execution_count": 9,
     "metadata": {},
     "output_type": "execute_result"
    }
   ],
   "source": [
    "df[120:125]"
   ]
  },
  {
   "cell_type": "markdown",
   "id": "22c345d9",
   "metadata": {},
   "source": [
    "### <span style='color:Blue'>  Dropping the index not required   </span>"
   ]
  },
  {
   "cell_type": "code",
   "execution_count": 10,
   "id": "b3273b0b",
   "metadata": {},
   "outputs": [],
   "source": [
    "df.drop(df.index[122:124],axis=0,inplace=True)"
   ]
  },
  {
   "cell_type": "code",
   "execution_count": 11,
   "id": "0bbc53f7",
   "metadata": {},
   "outputs": [
    {
     "data": {
      "text/html": [
       "<div>\n",
       "<style scoped>\n",
       "    .dataframe tbody tr th:only-of-type {\n",
       "        vertical-align: middle;\n",
       "    }\n",
       "\n",
       "    .dataframe tbody tr th {\n",
       "        vertical-align: top;\n",
       "    }\n",
       "\n",
       "    .dataframe thead th {\n",
       "        text-align: right;\n",
       "    }\n",
       "</style>\n",
       "<table border=\"1\" class=\"dataframe\">\n",
       "  <thead>\n",
       "    <tr style=\"text-align: right;\">\n",
       "      <th></th>\n",
       "      <th>day</th>\n",
       "      <th>month</th>\n",
       "      <th>year</th>\n",
       "      <th>Temperature</th>\n",
       "      <th>RH</th>\n",
       "      <th>Ws</th>\n",
       "      <th>Rain</th>\n",
       "      <th>FFMC</th>\n",
       "      <th>DMC</th>\n",
       "      <th>DC</th>\n",
       "      <th>ISI</th>\n",
       "      <th>BUI</th>\n",
       "      <th>FWI</th>\n",
       "      <th>Classes</th>\n",
       "      <th>region</th>\n",
       "    </tr>\n",
       "  </thead>\n",
       "  <tbody>\n",
       "    <tr>\n",
       "      <th>120</th>\n",
       "      <td>29</td>\n",
       "      <td>09</td>\n",
       "      <td>2012</td>\n",
       "      <td>26</td>\n",
       "      <td>80</td>\n",
       "      <td>16</td>\n",
       "      <td>1.8</td>\n",
       "      <td>47.4</td>\n",
       "      <td>2.9</td>\n",
       "      <td>7.7</td>\n",
       "      <td>0.3</td>\n",
       "      <td>3</td>\n",
       "      <td>0.1</td>\n",
       "      <td>not fire</td>\n",
       "      <td>0.0</td>\n",
       "    </tr>\n",
       "    <tr>\n",
       "      <th>121</th>\n",
       "      <td>30</td>\n",
       "      <td>09</td>\n",
       "      <td>2012</td>\n",
       "      <td>25</td>\n",
       "      <td>78</td>\n",
       "      <td>14</td>\n",
       "      <td>1.4</td>\n",
       "      <td>45</td>\n",
       "      <td>1.9</td>\n",
       "      <td>7.5</td>\n",
       "      <td>0.2</td>\n",
       "      <td>2.4</td>\n",
       "      <td>0.1</td>\n",
       "      <td>not fire</td>\n",
       "      <td>0.0</td>\n",
       "    </tr>\n",
       "    <tr>\n",
       "      <th>124</th>\n",
       "      <td>01</td>\n",
       "      <td>06</td>\n",
       "      <td>2012</td>\n",
       "      <td>32</td>\n",
       "      <td>71</td>\n",
       "      <td>12</td>\n",
       "      <td>0.7</td>\n",
       "      <td>57.1</td>\n",
       "      <td>2.5</td>\n",
       "      <td>8.2</td>\n",
       "      <td>0.6</td>\n",
       "      <td>2.8</td>\n",
       "      <td>0.2</td>\n",
       "      <td>not fire</td>\n",
       "      <td>1.0</td>\n",
       "    </tr>\n",
       "    <tr>\n",
       "      <th>125</th>\n",
       "      <td>02</td>\n",
       "      <td>06</td>\n",
       "      <td>2012</td>\n",
       "      <td>30</td>\n",
       "      <td>73</td>\n",
       "      <td>13</td>\n",
       "      <td>4</td>\n",
       "      <td>55.7</td>\n",
       "      <td>2.7</td>\n",
       "      <td>7.8</td>\n",
       "      <td>0.6</td>\n",
       "      <td>2.9</td>\n",
       "      <td>0.2</td>\n",
       "      <td>not fire</td>\n",
       "      <td>1.0</td>\n",
       "    </tr>\n",
       "    <tr>\n",
       "      <th>126</th>\n",
       "      <td>03</td>\n",
       "      <td>06</td>\n",
       "      <td>2012</td>\n",
       "      <td>29</td>\n",
       "      <td>80</td>\n",
       "      <td>14</td>\n",
       "      <td>2</td>\n",
       "      <td>48.7</td>\n",
       "      <td>2.2</td>\n",
       "      <td>7.6</td>\n",
       "      <td>0.3</td>\n",
       "      <td>2.6</td>\n",
       "      <td>0.1</td>\n",
       "      <td>not fire</td>\n",
       "      <td>1.0</td>\n",
       "    </tr>\n",
       "  </tbody>\n",
       "</table>\n",
       "</div>"
      ],
      "text/plain": [
       "    day month  year Temperature  RH  Ws Rain   FFMC  DMC   DC  ISI  BUI  FWI  \\\n",
       "120  29    09  2012          26  80  16   1.8  47.4  2.9  7.7  0.3    3  0.1   \n",
       "121  30    09  2012          25  78  14   1.4    45  1.9  7.5  0.2  2.4  0.1   \n",
       "124  01    06  2012          32  71  12   0.7  57.1  2.5  8.2  0.6  2.8  0.2   \n",
       "125  02    06  2012          30  73  13     4  55.7  2.7  7.8  0.6  2.9  0.2   \n",
       "126  03    06  2012          29  80  14     2  48.7  2.2  7.6  0.3  2.6  0.1   \n",
       "\n",
       "       Classes    region  \n",
       "120  not fire        0.0  \n",
       "121  not fire        0.0  \n",
       "124  not fire        1.0  \n",
       "125  not fire        1.0  \n",
       "126  not fire        1.0  "
      ]
     },
     "execution_count": 11,
     "metadata": {},
     "output_type": "execute_result"
    }
   ],
   "source": [
    "df[120:125]"
   ]
  },
  {
   "cell_type": "code",
   "execution_count": 12,
   "id": "08b9c475",
   "metadata": {},
   "outputs": [
    {
     "name": "stdout",
     "output_type": "stream",
     "text": [
      "<class 'pandas.core.frame.DataFrame'>\n",
      "Int64Index: 244 entries, 0 to 245\n",
      "Data columns (total 15 columns):\n",
      " #   Column       Non-Null Count  Dtype  \n",
      "---  ------       --------------  -----  \n",
      " 0   day          244 non-null    object \n",
      " 1   month        244 non-null    object \n",
      " 2   year         244 non-null    object \n",
      " 3   Temperature  244 non-null    object \n",
      " 4    RH          244 non-null    object \n",
      " 5    Ws          244 non-null    object \n",
      " 6   Rain         244 non-null    object \n",
      " 7   FFMC         244 non-null    object \n",
      " 8   DMC          244 non-null    object \n",
      " 9   DC           244 non-null    object \n",
      " 10  ISI          244 non-null    object \n",
      " 11  BUI          244 non-null    object \n",
      " 12  FWI          244 non-null    object \n",
      " 13  Classes      243 non-null    object \n",
      " 14  region       244 non-null    float64\n",
      "dtypes: float64(1), object(14)\n",
      "memory usage: 30.5+ KB\n"
     ]
    }
   ],
   "source": [
    "df.info()"
   ]
  },
  {
   "cell_type": "markdown",
   "id": "be9e003b",
   "metadata": {},
   "source": [
    "### Observation:\n",
    "There are lot of columns which needs to be converted to numeric "
   ]
  },
  {
   "cell_type": "markdown",
   "id": "80514bf5",
   "metadata": {},
   "source": [
    "### <span style='color:Blue'>  Correcting Column Names   </span>"
   ]
  },
  {
   "cell_type": "code",
   "execution_count": 13,
   "id": "1d74fc32",
   "metadata": {
    "scrolled": true
   },
   "outputs": [
    {
     "data": {
      "text/plain": [
       "Index(['day', 'month', 'year', 'Temperature', ' RH', ' Ws', 'Rain ', 'FFMC',\n",
       "       'DMC', 'DC', 'ISI', 'BUI', 'FWI', 'Classes  ', 'region'],\n",
       "      dtype='object')"
      ]
     },
     "execution_count": 13,
     "metadata": {},
     "output_type": "execute_result"
    }
   ],
   "source": [
    "df.columns"
   ]
  },
  {
   "cell_type": "code",
   "execution_count": 14,
   "id": "5b306942",
   "metadata": {},
   "outputs": [],
   "source": [
    "df.rename(columns = {' RH':'RH', ' Ws':'Ws','Rain ':'Rain','Classes  ':'Classes'},inplace=True)"
   ]
  },
  {
   "cell_type": "code",
   "execution_count": 15,
   "id": "7ba4444e",
   "metadata": {},
   "outputs": [
    {
     "data": {
      "text/plain": [
       "Index(['day', 'month', 'year', 'Temperature', 'RH', 'Ws', 'Rain', 'FFMC',\n",
       "       'DMC', 'DC', 'ISI', 'BUI', 'FWI', 'Classes', 'region'],\n",
       "      dtype='object')"
      ]
     },
     "execution_count": 15,
     "metadata": {},
     "output_type": "execute_result"
    }
   ],
   "source": [
    "df.columns"
   ]
  },
  {
   "cell_type": "markdown",
   "id": "d978b473",
   "metadata": {},
   "source": [
    "### <span style='color:Blue'>  Adding a new column fire   </span>"
   ]
  },
  {
   "cell_type": "code",
   "execution_count": 16,
   "id": "052ef6d7",
   "metadata": {
    "scrolled": true
   },
   "outputs": [
    {
     "data": {
      "text/plain": [
       "array(['not fire   ', 'fire   ', 'fire', 'fire ', 'not fire', 'not fire ',\n",
       "       'not fire     ', nan, 'not fire    '], dtype=object)"
      ]
     },
     "execution_count": 16,
     "metadata": {},
     "output_type": "execute_result"
    }
   ],
   "source": [
    "df['Classes'].unique()"
   ]
  },
  {
   "cell_type": "markdown",
   "id": "e91c17d2",
   "metadata": {},
   "source": [
    "#### Observation\n",
    "We have to remove white spaces from the data"
   ]
  },
  {
   "cell_type": "code",
   "execution_count": 17,
   "id": "b51ad418",
   "metadata": {
    "scrolled": true
   },
   "outputs": [
    {
     "data": {
      "text/plain": [
       "(244,)"
      ]
     },
     "execution_count": 17,
     "metadata": {},
     "output_type": "execute_result"
    }
   ],
   "source": [
    "df['Classes'].shape"
   ]
  },
  {
   "cell_type": "code",
   "execution_count": 18,
   "id": "31dbf554",
   "metadata": {},
   "outputs": [],
   "source": [
    "# there was a key error because we have deleted 2 columns above\n",
    "df.reset_index(inplace=True)\n",
    "df.drop(columns='index',inplace=True)"
   ]
  },
  {
   "cell_type": "code",
   "execution_count": 19,
   "id": "66efdab8",
   "metadata": {},
   "outputs": [
    {
     "data": {
      "text/plain": [
       "'not fire   '"
      ]
     },
     "execution_count": 19,
     "metadata": {},
     "output_type": "execute_result"
    }
   ],
   "source": [
    "df.loc[122,\"Classes\"]"
   ]
  },
  {
   "cell_type": "code",
   "execution_count": 20,
   "id": "d589ae64",
   "metadata": {
    "scrolled": true
   },
   "outputs": [
    {
     "data": {
      "text/html": [
       "<div>\n",
       "<style scoped>\n",
       "    .dataframe tbody tr th:only-of-type {\n",
       "        vertical-align: middle;\n",
       "    }\n",
       "\n",
       "    .dataframe tbody tr th {\n",
       "        vertical-align: top;\n",
       "    }\n",
       "\n",
       "    .dataframe thead th {\n",
       "        text-align: right;\n",
       "    }\n",
       "</style>\n",
       "<table border=\"1\" class=\"dataframe\">\n",
       "  <thead>\n",
       "    <tr style=\"text-align: right;\">\n",
       "      <th></th>\n",
       "      <th>day</th>\n",
       "      <th>month</th>\n",
       "      <th>year</th>\n",
       "      <th>Temperature</th>\n",
       "      <th>RH</th>\n",
       "      <th>Ws</th>\n",
       "      <th>Rain</th>\n",
       "      <th>FFMC</th>\n",
       "      <th>DMC</th>\n",
       "      <th>DC</th>\n",
       "      <th>ISI</th>\n",
       "      <th>BUI</th>\n",
       "      <th>FWI</th>\n",
       "      <th>Classes</th>\n",
       "      <th>region</th>\n",
       "    </tr>\n",
       "  </thead>\n",
       "  <tbody>\n",
       "    <tr>\n",
       "      <th>165</th>\n",
       "      <td>14</td>\n",
       "      <td>07</td>\n",
       "      <td>2012</td>\n",
       "      <td>37</td>\n",
       "      <td>37</td>\n",
       "      <td>18</td>\n",
       "      <td>0.2</td>\n",
       "      <td>88.9</td>\n",
       "      <td>12.9</td>\n",
       "      <td>14.6 9</td>\n",
       "      <td>12.5</td>\n",
       "      <td>10.4</td>\n",
       "      <td>fire</td>\n",
       "      <td>NaN</td>\n",
       "      <td>1.0</td>\n",
       "    </tr>\n",
       "  </tbody>\n",
       "</table>\n",
       "</div>"
      ],
      "text/plain": [
       "    day month  year Temperature  RH  Ws Rain  FFMC   DMC      DC   ISI   BUI  \\\n",
       "165  14    07  2012          37  37  18  0.2  88.9  12.9  14.6 9  12.5  10.4   \n",
       "\n",
       "         FWI Classes  region  \n",
       "165  fire        NaN     1.0  "
      ]
     },
     "execution_count": 20,
     "metadata": {},
     "output_type": "execute_result"
    }
   ],
   "source": [
    "df[df['Classes'].isnull()]"
   ]
  },
  {
   "cell_type": "code",
   "execution_count": 21,
   "id": "5c1d1e80",
   "metadata": {},
   "outputs": [],
   "source": [
    "# replacing with 'fire' because it has been mistakenly enetered in 'FWI column'\n",
    "df.loc[165,'Classes']='fire'"
   ]
  },
  {
   "cell_type": "code",
   "execution_count": 22,
   "id": "189a3e0c",
   "metadata": {
    "scrolled": true
   },
   "outputs": [],
   "source": [
    "# removing white spaces from both side\n",
    "for index in range(df['Classes'].shape[0]):\n",
    "    df.loc[index,'Classes']=(df.loc[index,'Classes']).strip()"
   ]
  },
  {
   "cell_type": "code",
   "execution_count": 23,
   "id": "cef8aed2",
   "metadata": {},
   "outputs": [
    {
     "data": {
      "text/plain": [
       "array(['not fire', 'fire'], dtype=object)"
      ]
     },
     "execution_count": 23,
     "metadata": {},
     "output_type": "execute_result"
    }
   ],
   "source": [
    "df[\"Classes\"].unique()"
   ]
  },
  {
   "cell_type": "code",
   "execution_count": 24,
   "id": "81c28b4a",
   "metadata": {
    "scrolled": true
   },
   "outputs": [
    {
     "data": {
      "text/plain": [
       "(array([0, 0, 0, 0, 0, 1, 1, 1, 0, 0, 1, 1, 0, 0, 0, 0, 0, 0, 0, 0, 1, 0,\n",
       "        1, 1, 1, 1, 1, 1, 0, 1, 0, 0, 0, 0, 1, 1, 0, 1, 0, 0, 0, 0, 0, 0,\n",
       "        0, 0, 1, 1, 1, 1, 1, 0, 0, 0, 1, 1, 1, 1, 1, 1, 1, 0, 0, 0, 1, 1,\n",
       "        1, 1, 0, 1, 1, 1, 0, 1, 1, 1, 1, 1, 1, 1, 1, 1, 1, 1, 1, 1, 1, 1,\n",
       "        1, 1, 0, 0, 0, 0, 0, 0, 1, 0, 0, 0, 0, 0, 0, 0, 0, 0, 0, 0, 1, 1,\n",
       "        1, 1, 1, 0, 0, 0, 0, 0, 1, 0, 0, 0, 0, 0, 0, 0, 0, 1, 1, 0, 0, 1,\n",
       "        1, 1, 0, 0, 0, 0, 0, 0, 0, 0, 1, 0, 0, 1, 1, 1, 1, 1, 1, 0, 0, 1,\n",
       "        1, 1, 1, 1, 1, 1, 1, 0, 0, 1, 1, 1, 1, 1, 1, 1, 1, 1, 1, 1, 1, 0,\n",
       "        0, 0, 0, 1, 1, 1, 1, 0, 1, 1, 1, 1, 0, 0, 1, 1, 1, 1, 1, 1, 1, 1,\n",
       "        1, 1, 1, 1, 1, 1, 1, 1, 1, 1, 1, 1, 0, 1, 1, 1, 0, 0, 1, 0, 0, 0,\n",
       "        1, 1, 1, 0, 0, 1, 1, 1, 1, 1, 1, 1, 1, 0, 1, 1, 1, 0, 0, 1, 0, 0,\n",
       "        0, 0], dtype=int64),\n",
       " Index(['not fire', 'fire'], dtype='object'))"
      ]
     },
     "execution_count": 24,
     "metadata": {},
     "output_type": "execute_result"
    }
   ],
   "source": [
    "pd.factorize(df['Classes'])"
   ]
  },
  {
   "cell_type": "code",
   "execution_count": 25,
   "id": "8ab3186b",
   "metadata": {},
   "outputs": [],
   "source": [
    "# fire will be indicated by 1 and not fire by 0\n",
    "df['Fire'] = pd.factorize(df['Classes'])[0]"
   ]
  },
  {
   "cell_type": "code",
   "execution_count": 26,
   "id": "0d29c9ba",
   "metadata": {},
   "outputs": [
    {
     "data": {
      "text/html": [
       "<div>\n",
       "<style scoped>\n",
       "    .dataframe tbody tr th:only-of-type {\n",
       "        vertical-align: middle;\n",
       "    }\n",
       "\n",
       "    .dataframe tbody tr th {\n",
       "        vertical-align: top;\n",
       "    }\n",
       "\n",
       "    .dataframe thead th {\n",
       "        text-align: right;\n",
       "    }\n",
       "</style>\n",
       "<table border=\"1\" class=\"dataframe\">\n",
       "  <thead>\n",
       "    <tr style=\"text-align: right;\">\n",
       "      <th></th>\n",
       "      <th>day</th>\n",
       "      <th>month</th>\n",
       "      <th>year</th>\n",
       "      <th>Temperature</th>\n",
       "      <th>RH</th>\n",
       "      <th>Ws</th>\n",
       "      <th>Rain</th>\n",
       "      <th>FFMC</th>\n",
       "      <th>DMC</th>\n",
       "      <th>DC</th>\n",
       "      <th>ISI</th>\n",
       "      <th>BUI</th>\n",
       "      <th>FWI</th>\n",
       "      <th>Classes</th>\n",
       "      <th>region</th>\n",
       "      <th>Fire</th>\n",
       "    </tr>\n",
       "  </thead>\n",
       "  <tbody>\n",
       "    <tr>\n",
       "      <th>52</th>\n",
       "      <td>23</td>\n",
       "      <td>07</td>\n",
       "      <td>2012</td>\n",
       "      <td>27</td>\n",
       "      <td>66</td>\n",
       "      <td>22</td>\n",
       "      <td>0.4</td>\n",
       "      <td>68.2</td>\n",
       "      <td>10.5</td>\n",
       "      <td>71.3</td>\n",
       "      <td>1.8</td>\n",
       "      <td>15.4</td>\n",
       "      <td>2.1</td>\n",
       "      <td>not fire</td>\n",
       "      <td>0.0</td>\n",
       "      <td>0</td>\n",
       "    </tr>\n",
       "    <tr>\n",
       "      <th>53</th>\n",
       "      <td>24</td>\n",
       "      <td>07</td>\n",
       "      <td>2012</td>\n",
       "      <td>28</td>\n",
       "      <td>78</td>\n",
       "      <td>16</td>\n",
       "      <td>0.1</td>\n",
       "      <td>70</td>\n",
       "      <td>9.6</td>\n",
       "      <td>79.7</td>\n",
       "      <td>1.4</td>\n",
       "      <td>14.7</td>\n",
       "      <td>1.3</td>\n",
       "      <td>not fire</td>\n",
       "      <td>0.0</td>\n",
       "      <td>0</td>\n",
       "    </tr>\n",
       "    <tr>\n",
       "      <th>54</th>\n",
       "      <td>25</td>\n",
       "      <td>07</td>\n",
       "      <td>2012</td>\n",
       "      <td>31</td>\n",
       "      <td>65</td>\n",
       "      <td>18</td>\n",
       "      <td>0</td>\n",
       "      <td>84.3</td>\n",
       "      <td>12.5</td>\n",
       "      <td>88.7</td>\n",
       "      <td>4.8</td>\n",
       "      <td>18.5</td>\n",
       "      <td>7.3</td>\n",
       "      <td>fire</td>\n",
       "      <td>0.0</td>\n",
       "      <td>1</td>\n",
       "    </tr>\n",
       "    <tr>\n",
       "      <th>55</th>\n",
       "      <td>26</td>\n",
       "      <td>07</td>\n",
       "      <td>2012</td>\n",
       "      <td>36</td>\n",
       "      <td>53</td>\n",
       "      <td>19</td>\n",
       "      <td>0</td>\n",
       "      <td>89.2</td>\n",
       "      <td>17.1</td>\n",
       "      <td>98.6</td>\n",
       "      <td>10</td>\n",
       "      <td>23.9</td>\n",
       "      <td>15.3</td>\n",
       "      <td>fire</td>\n",
       "      <td>0.0</td>\n",
       "      <td>1</td>\n",
       "    </tr>\n",
       "    <tr>\n",
       "      <th>56</th>\n",
       "      <td>27</td>\n",
       "      <td>07</td>\n",
       "      <td>2012</td>\n",
       "      <td>36</td>\n",
       "      <td>48</td>\n",
       "      <td>13</td>\n",
       "      <td>0</td>\n",
       "      <td>90.3</td>\n",
       "      <td>22.2</td>\n",
       "      <td>108.5</td>\n",
       "      <td>8.7</td>\n",
       "      <td>29.4</td>\n",
       "      <td>15.3</td>\n",
       "      <td>fire</td>\n",
       "      <td>0.0</td>\n",
       "      <td>1</td>\n",
       "    </tr>\n",
       "    <tr>\n",
       "      <th>57</th>\n",
       "      <td>28</td>\n",
       "      <td>07</td>\n",
       "      <td>2012</td>\n",
       "      <td>33</td>\n",
       "      <td>76</td>\n",
       "      <td>15</td>\n",
       "      <td>0</td>\n",
       "      <td>86.5</td>\n",
       "      <td>24.4</td>\n",
       "      <td>117.8</td>\n",
       "      <td>5.6</td>\n",
       "      <td>32.1</td>\n",
       "      <td>11.3</td>\n",
       "      <td>fire</td>\n",
       "      <td>0.0</td>\n",
       "      <td>1</td>\n",
       "    </tr>\n",
       "    <tr>\n",
       "      <th>58</th>\n",
       "      <td>29</td>\n",
       "      <td>07</td>\n",
       "      <td>2012</td>\n",
       "      <td>32</td>\n",
       "      <td>73</td>\n",
       "      <td>15</td>\n",
       "      <td>0</td>\n",
       "      <td>86.6</td>\n",
       "      <td>26.7</td>\n",
       "      <td>127</td>\n",
       "      <td>5.6</td>\n",
       "      <td>35</td>\n",
       "      <td>11.9</td>\n",
       "      <td>fire</td>\n",
       "      <td>0.0</td>\n",
       "      <td>1</td>\n",
       "    </tr>\n",
       "    <tr>\n",
       "      <th>59</th>\n",
       "      <td>30</td>\n",
       "      <td>07</td>\n",
       "      <td>2012</td>\n",
       "      <td>31</td>\n",
       "      <td>79</td>\n",
       "      <td>15</td>\n",
       "      <td>0</td>\n",
       "      <td>85.4</td>\n",
       "      <td>28.5</td>\n",
       "      <td>136</td>\n",
       "      <td>4.7</td>\n",
       "      <td>37.4</td>\n",
       "      <td>10.7</td>\n",
       "      <td>fire</td>\n",
       "      <td>0.0</td>\n",
       "      <td>1</td>\n",
       "    </tr>\n",
       "    <tr>\n",
       "      <th>60</th>\n",
       "      <td>31</td>\n",
       "      <td>07</td>\n",
       "      <td>2012</td>\n",
       "      <td>35</td>\n",
       "      <td>64</td>\n",
       "      <td>17</td>\n",
       "      <td>0</td>\n",
       "      <td>87.2</td>\n",
       "      <td>31.9</td>\n",
       "      <td>145.7</td>\n",
       "      <td>6.8</td>\n",
       "      <td>41.2</td>\n",
       "      <td>15.7</td>\n",
       "      <td>fire</td>\n",
       "      <td>0.0</td>\n",
       "      <td>1</td>\n",
       "    </tr>\n",
       "    <tr>\n",
       "      <th>61</th>\n",
       "      <td>01</td>\n",
       "      <td>08</td>\n",
       "      <td>2012</td>\n",
       "      <td>36</td>\n",
       "      <td>45</td>\n",
       "      <td>14</td>\n",
       "      <td>0</td>\n",
       "      <td>78.8</td>\n",
       "      <td>4.8</td>\n",
       "      <td>10.2</td>\n",
       "      <td>2</td>\n",
       "      <td>4.7</td>\n",
       "      <td>0.9</td>\n",
       "      <td>not fire</td>\n",
       "      <td>0.0</td>\n",
       "      <td>0</td>\n",
       "    </tr>\n",
       "    <tr>\n",
       "      <th>62</th>\n",
       "      <td>02</td>\n",
       "      <td>08</td>\n",
       "      <td>2012</td>\n",
       "      <td>35</td>\n",
       "      <td>55</td>\n",
       "      <td>12</td>\n",
       "      <td>0.4</td>\n",
       "      <td>78</td>\n",
       "      <td>5.8</td>\n",
       "      <td>10</td>\n",
       "      <td>1.7</td>\n",
       "      <td>5.5</td>\n",
       "      <td>0.8</td>\n",
       "      <td>not fire</td>\n",
       "      <td>0.0</td>\n",
       "      <td>0</td>\n",
       "    </tr>\n",
       "  </tbody>\n",
       "</table>\n",
       "</div>"
      ],
      "text/plain": [
       "   day month  year Temperature  RH  Ws Rain  FFMC   DMC     DC  ISI   BUI  \\\n",
       "52  23    07  2012          27  66  22  0.4  68.2  10.5   71.3  1.8  15.4   \n",
       "53  24    07  2012          28  78  16  0.1    70   9.6   79.7  1.4  14.7   \n",
       "54  25    07  2012          31  65  18    0  84.3  12.5   88.7  4.8  18.5   \n",
       "55  26    07  2012          36  53  19    0  89.2  17.1   98.6   10  23.9   \n",
       "56  27    07  2012          36  48  13    0  90.3  22.2  108.5  8.7  29.4   \n",
       "57  28    07  2012          33  76  15    0  86.5  24.4  117.8  5.6  32.1   \n",
       "58  29    07  2012          32  73  15    0  86.6  26.7    127  5.6    35   \n",
       "59  30    07  2012          31  79  15    0  85.4  28.5    136  4.7  37.4   \n",
       "60  31    07  2012          35  64  17    0  87.2  31.9  145.7  6.8  41.2   \n",
       "61  01    08  2012          36  45  14    0  78.8   4.8   10.2    2   4.7   \n",
       "62  02    08  2012          35  55  12  0.4    78   5.8     10  1.7   5.5   \n",
       "\n",
       "     FWI   Classes  region  Fire  \n",
       "52   2.1  not fire     0.0     0  \n",
       "53   1.3  not fire     0.0     0  \n",
       "54   7.3      fire     0.0     1  \n",
       "55  15.3      fire     0.0     1  \n",
       "56  15.3      fire     0.0     1  \n",
       "57  11.3      fire     0.0     1  \n",
       "58  11.9      fire     0.0     1  \n",
       "59  10.7      fire     0.0     1  \n",
       "60  15.7      fire     0.0     1  \n",
       "61   0.9  not fire     0.0     0  \n",
       "62   0.8  not fire     0.0     0  "
      ]
     },
     "execution_count": 26,
     "metadata": {},
     "output_type": "execute_result"
    }
   ],
   "source": [
    "# Verifying if encoding is correct or not\n",
    "df.loc[52:62,]"
   ]
  },
  {
   "cell_type": "code",
   "execution_count": 27,
   "id": "1baa8692",
   "metadata": {},
   "outputs": [],
   "source": [
    "# We will drop 'Classes' column because we have no use of it now\n",
    "df.drop(columns='Classes',inplace=True)"
   ]
  },
  {
   "cell_type": "code",
   "execution_count": 28,
   "id": "55f2d78b",
   "metadata": {},
   "outputs": [
    {
     "data": {
      "text/html": [
       "<div>\n",
       "<style scoped>\n",
       "    .dataframe tbody tr th:only-of-type {\n",
       "        vertical-align: middle;\n",
       "    }\n",
       "\n",
       "    .dataframe tbody tr th {\n",
       "        vertical-align: top;\n",
       "    }\n",
       "\n",
       "    .dataframe thead th {\n",
       "        text-align: right;\n",
       "    }\n",
       "</style>\n",
       "<table border=\"1\" class=\"dataframe\">\n",
       "  <thead>\n",
       "    <tr style=\"text-align: right;\">\n",
       "      <th></th>\n",
       "      <th>day</th>\n",
       "      <th>month</th>\n",
       "      <th>year</th>\n",
       "      <th>Temperature</th>\n",
       "      <th>RH</th>\n",
       "      <th>Ws</th>\n",
       "      <th>Rain</th>\n",
       "      <th>FFMC</th>\n",
       "      <th>DMC</th>\n",
       "      <th>DC</th>\n",
       "      <th>ISI</th>\n",
       "      <th>BUI</th>\n",
       "      <th>FWI</th>\n",
       "      <th>region</th>\n",
       "      <th>Fire</th>\n",
       "    </tr>\n",
       "  </thead>\n",
       "  <tbody>\n",
       "    <tr>\n",
       "      <th>0</th>\n",
       "      <td>01</td>\n",
       "      <td>06</td>\n",
       "      <td>2012</td>\n",
       "      <td>29</td>\n",
       "      <td>57</td>\n",
       "      <td>18</td>\n",
       "      <td>0</td>\n",
       "      <td>65.7</td>\n",
       "      <td>3.4</td>\n",
       "      <td>7.6</td>\n",
       "      <td>1.3</td>\n",
       "      <td>3.4</td>\n",
       "      <td>0.5</td>\n",
       "      <td>0.0</td>\n",
       "      <td>0</td>\n",
       "    </tr>\n",
       "    <tr>\n",
       "      <th>1</th>\n",
       "      <td>02</td>\n",
       "      <td>06</td>\n",
       "      <td>2012</td>\n",
       "      <td>29</td>\n",
       "      <td>61</td>\n",
       "      <td>13</td>\n",
       "      <td>1.3</td>\n",
       "      <td>64.4</td>\n",
       "      <td>4.1</td>\n",
       "      <td>7.6</td>\n",
       "      <td>1</td>\n",
       "      <td>3.9</td>\n",
       "      <td>0.4</td>\n",
       "      <td>0.0</td>\n",
       "      <td>0</td>\n",
       "    </tr>\n",
       "    <tr>\n",
       "      <th>2</th>\n",
       "      <td>03</td>\n",
       "      <td>06</td>\n",
       "      <td>2012</td>\n",
       "      <td>26</td>\n",
       "      <td>82</td>\n",
       "      <td>22</td>\n",
       "      <td>13.1</td>\n",
       "      <td>47.1</td>\n",
       "      <td>2.5</td>\n",
       "      <td>7.1</td>\n",
       "      <td>0.3</td>\n",
       "      <td>2.7</td>\n",
       "      <td>0.1</td>\n",
       "      <td>0.0</td>\n",
       "      <td>0</td>\n",
       "    </tr>\n",
       "    <tr>\n",
       "      <th>3</th>\n",
       "      <td>04</td>\n",
       "      <td>06</td>\n",
       "      <td>2012</td>\n",
       "      <td>25</td>\n",
       "      <td>89</td>\n",
       "      <td>13</td>\n",
       "      <td>2.5</td>\n",
       "      <td>28.6</td>\n",
       "      <td>1.3</td>\n",
       "      <td>6.9</td>\n",
       "      <td>0</td>\n",
       "      <td>1.7</td>\n",
       "      <td>0</td>\n",
       "      <td>0.0</td>\n",
       "      <td>0</td>\n",
       "    </tr>\n",
       "    <tr>\n",
       "      <th>4</th>\n",
       "      <td>05</td>\n",
       "      <td>06</td>\n",
       "      <td>2012</td>\n",
       "      <td>27</td>\n",
       "      <td>77</td>\n",
       "      <td>16</td>\n",
       "      <td>0</td>\n",
       "      <td>64.8</td>\n",
       "      <td>3</td>\n",
       "      <td>14.2</td>\n",
       "      <td>1.2</td>\n",
       "      <td>3.9</td>\n",
       "      <td>0.5</td>\n",
       "      <td>0.0</td>\n",
       "      <td>0</td>\n",
       "    </tr>\n",
       "  </tbody>\n",
       "</table>\n",
       "</div>"
      ],
      "text/plain": [
       "  day month  year Temperature  RH  Ws  Rain  FFMC  DMC    DC  ISI  BUI  FWI  \\\n",
       "0  01    06  2012          29  57  18     0  65.7  3.4   7.6  1.3  3.4  0.5   \n",
       "1  02    06  2012          29  61  13   1.3  64.4  4.1   7.6    1  3.9  0.4   \n",
       "2  03    06  2012          26  82  22  13.1  47.1  2.5   7.1  0.3  2.7  0.1   \n",
       "3  04    06  2012          25  89  13   2.5  28.6  1.3   6.9    0  1.7    0   \n",
       "4  05    06  2012          27  77  16     0  64.8    3  14.2  1.2  3.9  0.5   \n",
       "\n",
       "   region  Fire  \n",
       "0     0.0     0  \n",
       "1     0.0     0  \n",
       "2     0.0     0  \n",
       "3     0.0     0  \n",
       "4     0.0     0  "
      ]
     },
     "execution_count": 28,
     "metadata": {},
     "output_type": "execute_result"
    }
   ],
   "source": [
    "df.head()"
   ]
  },
  {
   "cell_type": "markdown",
   "id": "5e08a310",
   "metadata": {},
   "source": [
    "## <span style='color:Blue'>  Univariate Analysis   </span>\n",
    "With `Data Cleaning` on the go\n"
   ]
  },
  {
   "cell_type": "markdown",
   "id": "bb2ac8b0",
   "metadata": {},
   "source": [
    "### 1) Day"
   ]
  },
  {
   "cell_type": "code",
   "execution_count": 29,
   "id": "d9bd3f57",
   "metadata": {},
   "outputs": [
    {
     "data": {
      "text/plain": [
       "array(['01', '02', '03', '04', '05', '06', '07', '08', '09', '10', '11',\n",
       "       '12', '13', '14', '15', '16', '17', '18', '19', '20', '21', '22',\n",
       "       '23', '24', '25', '26', '27', '28', '29', '30', '31'], dtype=object)"
      ]
     },
     "execution_count": 29,
     "metadata": {},
     "output_type": "execute_result"
    }
   ],
   "source": [
    "df['day'].unique()"
   ]
  },
  {
   "cell_type": "code",
   "execution_count": 30,
   "id": "b6dd90d6",
   "metadata": {},
   "outputs": [],
   "source": [
    "# Coverting the column to numeric type\n",
    "df['day']=pd.to_numeric(df['day'])"
   ]
  },
  {
   "cell_type": "code",
   "execution_count": 31,
   "id": "844de883",
   "metadata": {},
   "outputs": [
    {
     "data": {
      "text/plain": [
       "dtype('int64')"
      ]
     },
     "execution_count": 31,
     "metadata": {},
     "output_type": "execute_result"
    }
   ],
   "source": [
    "df['day'].dtypes"
   ]
  },
  {
   "cell_type": "code",
   "execution_count": 32,
   "id": "8b028ffc",
   "metadata": {},
   "outputs": [
    {
     "data": {
      "image/png": "[encoded data removed]",
      "text/plain": [
       "<Figure size 432x288 with 1 Axes>"
      ]
     },
     "metadata": {
      "needs_background": "light"
     },
     "output_type": "display_data"
    }
   ],
   "source": [
    "plt.title(label=\"Day Frequency\")\n",
    "sns.histplot(df['day'])\n",
    "plt.show()"
   ]
  },
  {
   "cell_type": "markdown",
   "id": "c1e47980",
   "metadata": {},
   "source": [
    "### 2) Month"
   ]
  },
  {
   "cell_type": "code",
   "execution_count": 33,
   "id": "a4b5b0b3",
   "metadata": {},
   "outputs": [
    {
     "data": {
      "text/plain": [
       "array(['06', '07', '08', '09'], dtype=object)"
      ]
     },
     "execution_count": 33,
     "metadata": {},
     "output_type": "execute_result"
    }
   ],
   "source": [
    "df['month'].unique()"
   ]
  },
  {
   "cell_type": "code",
   "execution_count": 34,
   "id": "16156f70",
   "metadata": {},
   "outputs": [],
   "source": [
    "df['month']=pd.to_numeric(df['month'])"
   ]
  },
  {
   "cell_type": "code",
   "execution_count": 35,
   "id": "51a73dab",
   "metadata": {},
   "outputs": [
    {
     "data": {
      "text/plain": [
       "dtype('int64')"
      ]
     },
     "execution_count": 35,
     "metadata": {},
     "output_type": "execute_result"
    }
   ],
   "source": [
    "df['month'].dtypes"
   ]
  },
  {
   "cell_type": "code",
   "execution_count": 36,
   "id": "0491b155",
   "metadata": {},
   "outputs": [
    {
     "data": {
      "image/png": "[encoded data removed]",
      "text/plain": [
       "<Figure size 432x288 with 1 Axes>"
      ]
     },
     "metadata": {
      "needs_background": "light"
     },
     "output_type": "display_data"
    }
   ],
   "source": [
    "plt.title(label=\"Month Frequency\")\n",
    "sns.histplot(df['month'])\n",
    "plt.show()"
   ]
  },
  {
   "cell_type": "markdown",
   "id": "c02a5385",
   "metadata": {},
   "source": [
    "### 3) Year"
   ]
  },
  {
   "cell_type": "code",
   "execution_count": 37,
   "id": "b83a4fc3",
   "metadata": {},
   "outputs": [
    {
     "data": {
      "text/plain": [
       "array(['2012'], dtype=object)"
      ]
     },
     "execution_count": 37,
     "metadata": {},
     "output_type": "execute_result"
    }
   ],
   "source": [
    "df.year.unique()"
   ]
  },
  {
   "cell_type": "markdown",
   "id": "b27eceb7",
   "metadata": {},
   "source": [
    "#### Observation:\n",
    "We can drop the year column because whole data is of 2012"
   ]
  },
  {
   "cell_type": "code",
   "execution_count": 38,
   "id": "dd190bbe",
   "metadata": {},
   "outputs": [],
   "source": [
    "df.drop(columns='year',inplace=True)"
   ]
  },
  {
   "cell_type": "markdown",
   "id": "b49d2ae3",
   "metadata": {},
   "source": [
    "### 4) Temperature"
   ]
  },
  {
   "cell_type": "code",
   "execution_count": 39,
   "id": "20b51367",
   "metadata": {},
   "outputs": [
    {
     "data": {
      "text/plain": [
       "array(['29', '26', '25', '27', '31', '33', '30', '28', '32', '34', '35',\n",
       "       '36', '37', '22', '24', '38', '39', '40', '42'], dtype=object)"
      ]
     },
     "execution_count": 39,
     "metadata": {},
     "output_type": "execute_result"
    }
   ],
   "source": [
    "df['Temperature'].unique()"
   ]
  },
  {
   "cell_type": "code",
   "execution_count": 40,
   "id": "cfc1638e",
   "metadata": {},
   "outputs": [],
   "source": [
    "df['Temperature']=pd.to_numeric(df['Temperature'])"
   ]
  },
  {
   "cell_type": "code",
   "execution_count": 41,
   "id": "5c07957e",
   "metadata": {},
   "outputs": [
    {
     "data": {
      "text/plain": [
       "dtype('int64')"
      ]
     },
     "execution_count": 41,
     "metadata": {},
     "output_type": "execute_result"
    }
   ],
   "source": [
    "df['Temperature'].dtypes"
   ]
  },
  {
   "cell_type": "code",
   "execution_count": 42,
   "id": "35a5fbcf",
   "metadata": {},
   "outputs": [
    {
     "data": {
      "image/png": "[encoded data removed]",
      "text/plain": [
       "<Figure size 432x288 with 1 Axes>"
      ]
     },
     "metadata": {
      "needs_background": "light"
     },
     "output_type": "display_data"
    }
   ],
   "source": [
    "plt.title(label=\"Temeperature Frequency\")\n",
    "sns.histplot(df['Temperature'])\n",
    "plt.show()"
   ]
  },
  {
   "cell_type": "code",
   "execution_count": 43,
   "id": "b578e0ec",
   "metadata": {
    "scrolled": true
   },
   "outputs": [
    {
     "data": {
      "image/png": "[encoded data removed]",
      "text/plain": [
       "<Figure size 432x288 with 1 Axes>"
      ]
     },
     "metadata": {
      "needs_background": "light"
     },
     "output_type": "display_data"
    }
   ],
   "source": [
    "plt.title(label=\"Temeperature Boxplot\")\n",
    "sns.boxplot(x=df['Temperature'])\n",
    "plt.show()"
   ]
  },
  {
   "cell_type": "code",
   "execution_count": 44,
   "id": "a1d6a6cd",
   "metadata": {},
   "outputs": [
    {
     "data": {
      "text/html": [
       "<div>\n",
       "<style scoped>\n",
       "    .dataframe tbody tr th:only-of-type {\n",
       "        vertical-align: middle;\n",
       "    }\n",
       "\n",
       "    .dataframe tbody tr th {\n",
       "        vertical-align: top;\n",
       "    }\n",
       "\n",
       "    .dataframe thead th {\n",
       "        text-align: right;\n",
       "    }\n",
       "</style>\n",
       "<table border=\"1\" class=\"dataframe\">\n",
       "  <thead>\n",
       "    <tr style=\"text-align: right;\">\n",
       "      <th></th>\n",
       "      <th>day</th>\n",
       "      <th>month</th>\n",
       "      <th>Temperature</th>\n",
       "      <th>RH</th>\n",
       "      <th>Ws</th>\n",
       "      <th>Rain</th>\n",
       "      <th>FFMC</th>\n",
       "      <th>DMC</th>\n",
       "      <th>DC</th>\n",
       "      <th>ISI</th>\n",
       "      <th>BUI</th>\n",
       "      <th>FWI</th>\n",
       "      <th>region</th>\n",
       "      <th>Fire</th>\n",
       "    </tr>\n",
       "  </thead>\n",
       "  <tbody>\n",
       "    <tr>\n",
       "      <th>93</th>\n",
       "      <td>2</td>\n",
       "      <td>9</td>\n",
       "      <td>22</td>\n",
       "      <td>86</td>\n",
       "      <td>15</td>\n",
       "      <td>10.1</td>\n",
       "      <td>30.5</td>\n",
       "      <td>0.7</td>\n",
       "      <td>7</td>\n",
       "      <td>0</td>\n",
       "      <td>1.1</td>\n",
       "      <td>0</td>\n",
       "      <td>0.0</td>\n",
       "      <td>0</td>\n",
       "    </tr>\n",
       "    <tr>\n",
       "      <th>105</th>\n",
       "      <td>14</td>\n",
       "      <td>9</td>\n",
       "      <td>22</td>\n",
       "      <td>76</td>\n",
       "      <td>26</td>\n",
       "      <td>8.3</td>\n",
       "      <td>47.4</td>\n",
       "      <td>1.1</td>\n",
       "      <td>7</td>\n",
       "      <td>0.4</td>\n",
       "      <td>1.6</td>\n",
       "      <td>0.1</td>\n",
       "      <td>0.0</td>\n",
       "      <td>0</td>\n",
       "    </tr>\n",
       "  </tbody>\n",
       "</table>\n",
       "</div>"
      ],
      "text/plain": [
       "     day  month  Temperature  RH  Ws  Rain  FFMC  DMC DC  ISI  BUI  FWI  \\\n",
       "93     2      9           22  86  15  10.1  30.5  0.7  7    0  1.1    0   \n",
       "105   14      9           22  76  26   8.3  47.4  1.1  7  0.4  1.6  0.1   \n",
       "\n",
       "     region  Fire  \n",
       "93      0.0     0  \n",
       "105     0.0     0  "
      ]
     },
     "execution_count": 44,
     "metadata": {},
     "output_type": "execute_result"
    }
   ],
   "source": [
    "# Two outliers\n",
    "df[df['Temperature']<24]"
   ]
  },
  {
   "cell_type": "markdown",
   "id": "9fc7e291",
   "metadata": {},
   "source": [
    "### 4) Relative Humidity"
   ]
  },
  {
   "cell_type": "code",
   "execution_count": 45,
   "id": "8b9a93e7",
   "metadata": {
    "scrolled": true
   },
   "outputs": [
    {
     "data": {
      "text/plain": [
       "array(['57', '61', '82', '89', '77', '67', '54', '73', '88', '79', '65',\n",
       "       '81', '84', '78', '80', '55', '62', '66', '64', '53', '47', '50',\n",
       "       '68', '75', '76', '63', '69', '70', '59', '48', '45', '60', '51',\n",
       "       '52', '58', '86', '74', '71', '49', '44', '41', '42', '90', '87',\n",
       "       '72', '46', '37', '36', '56', '43', '83', '29', '34', '33', '35',\n",
       "       '39', '31', '21', '40', '24', '38', '26'], dtype=object)"
      ]
     },
     "execution_count": 45,
     "metadata": {},
     "output_type": "execute_result"
    }
   ],
   "source": [
    "df['RH'].unique()"
   ]
  },
  {
   "cell_type": "code",
   "execution_count": 46,
   "id": "4a8ee305",
   "metadata": {},
   "outputs": [],
   "source": [
    "df['RH']=pd.to_numeric(df['RH'])"
   ]
  },
  {
   "cell_type": "code",
   "execution_count": 47,
   "id": "f01b2184",
   "metadata": {},
   "outputs": [
    {
     "data": {
      "text/plain": [
       "dtype('int64')"
      ]
     },
     "execution_count": 47,
     "metadata": {},
     "output_type": "execute_result"
    }
   ],
   "source": [
    "df['Temperature'].dtypes"
   ]
  },
  {
   "cell_type": "code",
   "execution_count": 48,
   "id": "92c89874",
   "metadata": {},
   "outputs": [
    {
     "data": {
      "image/png": "[encoded data removed]",
      "text/plain": [
       "<Figure size 432x288 with 1 Axes>"
      ]
     },
     "metadata": {
      "needs_background": "light"
     },
     "output_type": "display_data"
    }
   ],
   "source": [
    "plt.title(label=\"Relative Humidity Frequency\")\n",
    "sns.histplot(df['RH'])\n",
    "plt.show()"
   ]
  },
  {
   "cell_type": "code",
   "execution_count": 49,
   "id": "90c103e7",
   "metadata": {},
   "outputs": [
    {
     "data": {
      "image/png": "[encoded data removed]",
      "text/plain": [
       "<Figure size 432x288 with 1 Axes>"
      ]
     },
     "metadata": {
      "needs_background": "light"
     },
     "output_type": "display_data"
    }
   ],
   "source": [
    "plt.title(label=\"Relative Humidity Boxplot\")\n",
    "sns.boxplot(x=df['RH'])\n",
    "plt.show()"
   ]
  },
  {
   "cell_type": "markdown",
   "id": "f9f034b7",
   "metadata": {},
   "source": [
    "### 5) Wind Speed"
   ]
  },
  {
   "cell_type": "code",
   "execution_count": 50,
   "id": "14d00dc6",
   "metadata": {},
   "outputs": [
    {
     "data": {
      "text/plain": [
       "array(['18', '13', '22', '16', '14', '15', '12', '19', '21', '20', '17',\n",
       "       '26', '11', '10', '9', '8', '6', '29'], dtype=object)"
      ]
     },
     "execution_count": 50,
     "metadata": {},
     "output_type": "execute_result"
    }
   ],
   "source": [
    "df['Ws'].unique()"
   ]
  },
  {
   "cell_type": "code",
   "execution_count": 51,
   "id": "de813c06",
   "metadata": {},
   "outputs": [],
   "source": [
    "df['Ws']=pd.to_numeric(df['Ws'])"
   ]
  },
  {
   "cell_type": "code",
   "execution_count": 52,
   "id": "197cee8b",
   "metadata": {},
   "outputs": [
    {
     "data": {
      "text/plain": [
       "dtype('int64')"
      ]
     },
     "execution_count": 52,
     "metadata": {},
     "output_type": "execute_result"
    }
   ],
   "source": [
    "df['Temperature'].dtypes"
   ]
  },
  {
   "cell_type": "code",
   "execution_count": 53,
   "id": "77951f34",
   "metadata": {},
   "outputs": [
    {
     "data": {
      "image/png": "[encoded data removed]",
      "text/plain": [
       "<Figure size 432x288 with 1 Axes>"
      ]
     },
     "metadata": {
      "needs_background": "light"
     },
     "output_type": "display_data"
    }
   ],
   "source": [
    "plt.title(label=\"Wind Speed Frequency\")\n",
    "sns.histplot(df['Ws'])\n",
    "plt.show()"
   ]
  },
  {
   "cell_type": "code",
   "execution_count": 54,
   "id": "38aceb93",
   "metadata": {},
   "outputs": [
    {
     "data": {
      "image/png": "[encoded data removed]",
      "text/plain": [
       "<Figure size 432x288 with 1 Axes>"
      ]
     },
     "metadata": {
      "needs_background": "light"
     },
     "output_type": "display_data"
    }
   ],
   "source": [
    "plt.title(label=\"Wind Speed Boxplot\")\n",
    "sns.boxplot(x=df['Ws'])\n",
    "plt.show()"
   ]
  },
  {
   "cell_type": "markdown",
   "id": "d4d78bcc",
   "metadata": {},
   "source": [
    "### `Observation`:\n",
    "Outliers on the right side may be representing a bad weather condition"
   ]
  },
  {
   "cell_type": "markdown",
   "id": "db14e053",
   "metadata": {},
   "source": [
    "### 6) Rain"
   ]
  },
  {
   "cell_type": "code",
   "execution_count": 55,
   "id": "6c23ca4c",
   "metadata": {},
   "outputs": [
    {
     "data": {
      "text/plain": [
       "array(['0', '1.3', '13.1', '2.5', '0.2', '1.2', '0.5', '3.1', '0.7',\n",
       "       '0.6', '0.3', '0.1', '0.4', '1', '1.4', '0.8', '16.8', '7.2',\n",
       "       '10.1', '3.8', '0.9', '1.8', '4.6', '8.3', '5.8', '4', '2', '4.7',\n",
       "       '8.7', '4.5', '1.1', '1.7', '2.2', '6', '1.9', '2.9', '4.1', '6.5',\n",
       "       '4.4'], dtype=object)"
      ]
     },
     "execution_count": 55,
     "metadata": {},
     "output_type": "execute_result"
    }
   ],
   "source": [
    "df['Rain'].unique()"
   ]
  },
  {
   "cell_type": "code",
   "execution_count": 56,
   "id": "6c2d4f45",
   "metadata": {},
   "outputs": [],
   "source": [
    "df['Rain']=pd.to_numeric(df['Rain'])"
   ]
  },
  {
   "cell_type": "code",
   "execution_count": 57,
   "id": "38ba6ffb",
   "metadata": {},
   "outputs": [
    {
     "data": {
      "text/plain": [
       "array([ 0. ,  1.3, 13.1,  2.5,  0.2,  1.2,  0.5,  3.1,  0.7,  0.6,  0.3,\n",
       "        0.1,  0.4,  1. ,  1.4,  0.8, 16.8,  7.2, 10.1,  3.8,  0.9,  1.8,\n",
       "        4.6,  8.3,  5.8,  4. ,  2. ,  4.7,  8.7,  4.5,  1.1,  1.7,  2.2,\n",
       "        6. ,  1.9,  2.9,  4.1,  6.5,  4.4])"
      ]
     },
     "execution_count": 57,
     "metadata": {},
     "output_type": "execute_result"
    }
   ],
   "source": [
    "df['Rain'].unique()"
   ]
  },
  {
   "cell_type": "code",
   "execution_count": 58,
   "id": "8153c890",
   "metadata": {},
   "outputs": [
    {
     "data": {
      "text/plain": [
       "dtype('float64')"
      ]
     },
     "execution_count": 58,
     "metadata": {},
     "output_type": "execute_result"
    }
   ],
   "source": [
    "df['Rain'].dtypes"
   ]
  },
  {
   "cell_type": "code",
   "execution_count": 59,
   "id": "74acd548",
   "metadata": {},
   "outputs": [
    {
     "data": {
      "image/png": "[encoded data removed]",
      "text/plain": [
       "<Figure size 432x288 with 1 Axes>"
      ]
     },
     "metadata": {
      "needs_background": "light"
     },
     "output_type": "display_data"
    }
   ],
   "source": [
    "plt.title(label=\"Rain Frequency\")\n",
    "sns.histplot(df['Rain'])\n",
    "plt.show()"
   ]
  },
  {
   "cell_type": "code",
   "execution_count": 60,
   "id": "55848d2e",
   "metadata": {},
   "outputs": [
    {
     "data": {
      "image/png": "[encoded data removed]",
      "text/plain": [
       "<Figure size 432x288 with 1 Axes>"
      ]
     },
     "metadata": {
      "needs_background": "light"
     },
     "output_type": "display_data"
    }
   ],
   "source": [
    "plt.title(label=\"Rain Boxplot\")\n",
    "sns.boxplot(x=df['Rain'])\n",
    "plt.show()"
   ]
  },
  {
   "cell_type": "markdown",
   "id": "c43a17f7",
   "metadata": {},
   "source": [
    "### `Observation`:\n",
    "Most of the time there is no rain that's why majority of data points are concentrated towards 0"
   ]
  },
  {
   "cell_type": "markdown",
   "id": "58d5d78a",
   "metadata": {},
   "source": [
    "### 7) Fine Fuel Moisture Code (FFMC)\n",
    "FFMC is a numerical rating of the moisture content of litter and cured fine fuels and is derived from temperature, relative humidity, wind and rain"
   ]
  },
  {
   "cell_type": "code",
   "execution_count": 61,
   "id": "de10aa94",
   "metadata": {
    "scrolled": false
   },
   "outputs": [
    {
     "data": {
      "text/plain": [
       "array(['65.7', '64.4', '47.1', '28.6', '64.8', '82.6', '88.2', '86.6',\n",
       "       '52.9', '73.2', '84.5', '84', '50', '59', '49.4', '36.1', '37.3',\n",
       "       '56.9', '79.9', '59.8', '81', '79.1', '81.4', '85.9', '86.7',\n",
       "       '86.8', '89', '89.1', '88.7', '59.9', '55.7', '63.1', '80.1', '87',\n",
       "       '80', '85.6', '66.6', '81.1', '75.1', '81.8', '73.9', '60.7',\n",
       "       '72.6', '82.8', '85.4', '88.1', '73.4', '68.2', '70', '84.3',\n",
       "       '89.2', '90.3', '86.5', '87.2', '78.8', '78', '76.6', '85', '86.4',\n",
       "       '77.1', '87.4', '88.9', '81.3', '82.4', '80.2', '89.3', '89.4',\n",
       "       '88.3', '88.6', '89.5', '85.8', '84.9', '90.1', '72.7', '52.5',\n",
       "       '46', '30.5', '42.6', '68.4', '80.8', '75.8', '69.6', '62', '56.1',\n",
       "       '58.5', '71', '40.9', '47.4', '44.9', '78.1', '87.7', '83.8',\n",
       "       '87.8', '77.8', '73.7', '68.3', '48.6', '82', '85.7', '77.5', '45',\n",
       "       '57.1', '48.7', '79.4', '83.7', '71.4', '90.6', '72.3', '53.4',\n",
       "       '66.8', '62.2', '65.5', '64.6', '60.2', '86.2', '78.3', '74.2',\n",
       "       '85.3', '86', '92.5', '79.7', '63.7', '87.6', '84.7', '88', '90.5',\n",
       "       '82.3', '74.8', '85.2', '84.6', '86.1', '89.9', '93.9', '91.5',\n",
       "       '87.3', '72.8', '73.8', '87.5', '93.3', '93.7', '93.8', '70.5',\n",
       "       '69.7', '91.7', '94.2', '93', '91.9', '83.9', '92', '96', '94.3',\n",
       "       '82.7', '91.2', '92.1', '92.2', '91', '79.2', '37.9', '75.4',\n",
       "       '82.2', '73.5', '66.1', '64.5', '83.3', '82.5', '83.1', '59.5',\n",
       "       '84.2', '79.5', '61.3', '41.1', '45.9', '67.3'], dtype=object)"
      ]
     },
     "execution_count": 61,
     "metadata": {},
     "output_type": "execute_result"
    }
   ],
   "source": [
    "df['FFMC'].unique()"
   ]
  },
  {
   "cell_type": "code",
   "execution_count": 62,
   "id": "df3598eb",
   "metadata": {},
   "outputs": [],
   "source": [
    "df['FFMC']=pd.to_numeric(df['FFMC'])"
   ]
  },
  {
   "cell_type": "code",
   "execution_count": 63,
   "id": "0a080926",
   "metadata": {},
   "outputs": [
    {
     "data": {
      "text/plain": [
       "dtype('float64')"
      ]
     },
     "execution_count": 63,
     "metadata": {},
     "output_type": "execute_result"
    }
   ],
   "source": [
    "df['FFMC'].dtypes"
   ]
  },
  {
   "cell_type": "code",
   "execution_count": 64,
   "id": "beeee1b6",
   "metadata": {},
   "outputs": [
    {
     "data": {
      "image/png": "[encoded data removed]",
      "text/plain": [
       "<Figure size 432x288 with 1 Axes>"
      ]
     },
     "metadata": {
      "needs_background": "light"
     },
     "output_type": "display_data"
    }
   ],
   "source": [
    "plt.title(label=\"FFMC Frequency\")\n",
    "sns.histplot(df['FFMC'])\n",
    "plt.show()"
   ]
  },
  {
   "cell_type": "code",
   "execution_count": 65,
   "id": "938e0814",
   "metadata": {},
   "outputs": [
    {
     "data": {
      "image/png": "[encoded data removed]",
      "text/plain": [
       "<Figure size 432x288 with 1 Axes>"
      ]
     },
     "metadata": {
      "needs_background": "light"
     },
     "output_type": "display_data"
    }
   ],
   "source": [
    "plt.title(label=\"FFMC Boxplot\")\n",
    "sns.boxplot(x=df['FFMC'])\n",
    "plt.show()"
   ]
  },
  {
   "cell_type": "markdown",
   "id": "ec44090f",
   "metadata": {},
   "source": [
    "### 8) DMC (Duff Moisture Code)\n",
    "The Duff Moisture Code (DMC) is a numeric rating of the average moisture content of loosely compacted organic layers of moderate depth. This code gives an indication of fuel consumption in moderate duff layers and medium-size woody material."
   ]
  },
  {
   "cell_type": "code",
   "execution_count": 66,
   "id": "fbdbf1f8",
   "metadata": {},
   "outputs": [
    {
     "data": {
      "text/plain": [
       "array(['3.4', '4.1', '2.5', '1.3', '3', '5.8', '9.9', '12.1', '7.9',\n",
       "       '9.5', '12.5', '13.8', '6.7', '4.6', '1.7', '1.1', '1.9', '4.5',\n",
       "       '6.3', '7', '8.2', '11.2', '14.2', '17.8', '21.6', '25.5', '18.4',\n",
       "       '22.9', '2.4', '2.6', '7.6', '10.9', '9.7', '7.7', '6', '8.1',\n",
       "       '7.8', '5.2', '9.4', '12', '12.3', '18.5', '16.4', '10.5', '9.6',\n",
       "       '17.1', '22.2', '24.4', '26.7', '28.5', '31.9', '4.8', '5.7',\n",
       "       '11.1', '13', '15.5', '11.3', '14.8', '18.6', '21.7', '15.6', '19',\n",
       "       '11.7', '16', '20', '23.2', '25.9', '29.6', '33.5', '37.6', '40.5',\n",
       "       '43.9', '45.6', '47', '50.2', '54.2', '25.2', '8.7', '0.7', '1.2',\n",
       "       '3.6', '3.2', '2.1', '2.2', '0.9', '6.4', '9.8', '13.5', '16.5',\n",
       "       '10.6', '5.5', '8.3', '7.1', '2.9', '2.7', '8.4', '8.5', '13.3',\n",
       "       '18.2', '21.3', '11.4', '7.2', '4.2', '3.9', '4.4', '3.8', '10',\n",
       "       '12.8', '20.9', '27.2', '17.9', '13.6', '18.7', '8', '12.6',\n",
       "       '12.9', '18', '19.4', '21.1', '23.9', '27.8', '32.7', '39.6',\n",
       "       '44.2', '46.6', '10.8', '11.8', '15.7', '19.5', '23.8', '28.3',\n",
       "       '23', '23.6', '11', '15.8', '22.5', '16.9', '22.3', '22.6', '30.3',\n",
       "       '35.9', '34.4', '36.9', '41.1', '46.1', '51.3', '56.3', '61.3',\n",
       "       '65.9', '37', '20.7', '24.8', '4', '3.3', '6.6', '4.7', '6.5',\n",
       "       '11.5', '21.2', '25.8', '24.9', '26.1', '29.4', '11.9', '3.5',\n",
       "       '4.3'], dtype=object)"
      ]
     },
     "execution_count": 66,
     "metadata": {},
     "output_type": "execute_result"
    }
   ],
   "source": [
    "df['DMC'].unique()"
   ]
  },
  {
   "cell_type": "code",
   "execution_count": 67,
   "id": "dfc19e1a",
   "metadata": {},
   "outputs": [],
   "source": [
    "df['DMC']=pd.to_numeric(df['DMC'])"
   ]
  },
  {
   "cell_type": "code",
   "execution_count": 68,
   "id": "bce20489",
   "metadata": {},
   "outputs": [
    {
     "data": {
      "text/plain": [
       "dtype('float64')"
      ]
     },
     "execution_count": 68,
     "metadata": {},
     "output_type": "execute_result"
    }
   ],
   "source": [
    "df['DMC'].dtypes"
   ]
  },
  {
   "cell_type": "code",
   "execution_count": 69,
   "id": "609aabc8",
   "metadata": {},
   "outputs": [
    {
     "data": {
      "image/png": "[encoded data removed]",
      "text/plain": [
       "<Figure size 432x288 with 1 Axes>"
      ]
     },
     "metadata": {
      "needs_background": "light"
     },
     "output_type": "display_data"
    }
   ],
   "source": [
    "plt.title(label=\"DMC Frequency\")\n",
    "sns.histplot(df['DMC'])\n",
    "plt.show()"
   ]
  },
  {
   "cell_type": "code",
   "execution_count": 70,
   "id": "fbe43e21",
   "metadata": {},
   "outputs": [
    {
     "data": {
      "image/png": "[encoded data removed]",
      "text/plain": [
       "<Figure size 432x288 with 1 Axes>"
      ]
     },
     "metadata": {
      "needs_background": "light"
     },
     "output_type": "display_data"
    }
   ],
   "source": [
    "plt.title(label=\"DMC Boxplot\")\n",
    "sns.boxplot(x=df['DMC'])\n",
    "plt.show()"
   ]
  },
  {
   "cell_type": "markdown",
   "id": "36b020f0",
   "metadata": {},
   "source": [
    "### 9) DC (drought code)\n",
    "The Drought Code (DC) is a numeric rating of the average moisture content of deep, compact organic layers."
   ]
  },
  {
   "cell_type": "code",
   "execution_count": 71,
   "id": "c2f73cf8",
   "metadata": {},
   "outputs": [
    {
     "data": {
      "text/plain": [
       "array(['7.6', '7.1', '6.9', '14.2', '22.2', '30.5', '38.3', '38.8',\n",
       "       '46.3', '54.3', '61.4', '17', '7.8', '7.4', '8', '16', '27.1',\n",
       "       '31.6', '39.5', '47.7', '55.8', '63.8', '71.8', '80.3', '88.5',\n",
       "       '84.4', '92.8', '8.6', '8.3', '9.2', '18.5', '27.9', '37', '40.4',\n",
       "       '49.8', '9.3', '18.7', '27.7', '37.2', '22.9', '25.5', '34.1',\n",
       "       '43.1', '52.8', '62.1', '71.5', '79.9', '71.3', '79.7', '88.7',\n",
       "       '98.6', '108.5', '117.8', '127', '136', '145.7', '10.2', '10',\n",
       "       '19.8', '29.7', '39.1', '48.6', '47', '57', '67', '77', '75.1',\n",
       "       '85.1', '94.7', '92.5', '90.4', '100.7', '110.9', '120.9', '130.6',\n",
       "       '141.1', '151.3', '161.5', '171.3', '181.3', '190.6', '200.2',\n",
       "       '210.4', '220.4', '180.4', '8.7', '7.5', '7', '15.7', '24', '32.2',\n",
       "       '30.1', '8.4', '8.9', '16.6', '7.3', '24.3', '33.1', '41.3',\n",
       "       '49.3', '57.9', '41.4', '30.4', '15.2', '7.7', '16.3', '24.9',\n",
       "       '8.8', '8.2', '15.4', '17.6', '26.3', '28.9', '14.7', '22.5',\n",
       "       '37.8', '18.4', '25.6', '34.5', '43.3', '52.4', '36.7', '8.5',\n",
       "       '17.8', '27.3', '36.8', '46.4', '45.1', '35.4', '9.7', '9.9',\n",
       "       '9.5', '19.4', '10.4', '14.6 9', '24.1', '42.3', '51.6', '61.1',\n",
       "       '71', '80.6', '90.1', '99', '56.6', '15.9', '19.7', '28.3', '37.6',\n",
       "       '47.2', '57.1', '67.2', '10.5', '21.4', '32.1', '42.7', '52.5',\n",
       "       '9.1', '9.8', '20.2', '30.9', '41.5', '55.5', '54.2', '65.1',\n",
       "       '76.4', '86.8', '96.8', '107', '117.1', '127.5', '137.7', '147.7',\n",
       "       '157.5', '167.2', '177.3', '166', '149.2', '159.1', '168.2',\n",
       "       '26.6', '17.7', '26.1', '25.2', '33.4', '50.2', '59.2', '63.3',\n",
       "       '77.8', '86', '88', '97.3', '106.3', '115.6', '28.1', '36.1',\n",
       "       '44.5', '7.9', '16.5'], dtype=object)"
      ]
     },
     "execution_count": 71,
     "metadata": {},
     "output_type": "execute_result"
    }
   ],
   "source": [
    "df['DC'].unique()"
   ]
  },
  {
   "cell_type": "code",
   "execution_count": 72,
   "id": "4f145410",
   "metadata": {},
   "outputs": [
    {
     "ename": "ValueError",
     "evalue": "Unable to parse string \"14.6 9\" at position 165",
     "output_type": "error",
     "traceback": [
      "\u001b[1;31m---------------------------------------------------------------------------\u001b[0m",
      "\u001b[1;31mValueError\u001b[0m                                Traceback (most recent call last)",
      "\u001b[1;32m~\\anaconda3\\lib\\site-packages\\pandas\\_libs\\lib.pyx\u001b[0m in \u001b[0;36mpandas._libs.lib.maybe_convert_numeric\u001b[1;34m()\u001b[0m\n",
      "\u001b[1;31mValueError\u001b[0m: Unable to parse string \"14.6 9\"",
      "\nDuring handling of the above exception, another exception occurred:\n",
      "\u001b[1;31mValueError\u001b[0m                                Traceback (most recent call last)",
      "\u001b[1;32m~\\AppData\\Local\\Temp/ipykernel_2552/1255904195.py\u001b[0m in \u001b[0;36m<module>\u001b[1;34m\u001b[0m\n\u001b[1;32m----> 1\u001b[1;33m \u001b[0mdf\u001b[0m\u001b[1;33m[\u001b[0m\u001b[1;34m'DC'\u001b[0m\u001b[1;33m]\u001b[0m\u001b[1;33m=\u001b[0m\u001b[0mpd\u001b[0m\u001b[1;33m.\u001b[0m\u001b[0mto_numeric\u001b[0m\u001b[1;33m(\u001b[0m\u001b[0mdf\u001b[0m\u001b[1;33m[\u001b[0m\u001b[1;34m'DC'\u001b[0m\u001b[1;33m]\u001b[0m\u001b[1;33m)\u001b[0m\u001b[1;33m\u001b[0m\u001b[1;33m\u001b[0m\u001b[0m\n\u001b[0m",
      "\u001b[1;32m~\\anaconda3\\lib\\site-packages\\pandas\\core\\tools\\numeric.py\u001b[0m in \u001b[0;36mto_numeric\u001b[1;34m(arg, errors, downcast)\u001b[0m\n\u001b[0;32m    181\u001b[0m         \u001b[0mcoerce_numeric\u001b[0m \u001b[1;33m=\u001b[0m \u001b[0merrors\u001b[0m \u001b[1;32mnot\u001b[0m \u001b[1;32min\u001b[0m \u001b[1;33m(\u001b[0m\u001b[1;34m\"ignore\"\u001b[0m\u001b[1;33m,\u001b[0m \u001b[1;34m\"raise\"\u001b[0m\u001b[1;33m)\u001b[0m\u001b[1;33m\u001b[0m\u001b[1;33m\u001b[0m\u001b[0m\n\u001b[0;32m    182\u001b[0m         \u001b[1;32mtry\u001b[0m\u001b[1;33m:\u001b[0m\u001b[1;33m\u001b[0m\u001b[1;33m\u001b[0m\u001b[0m\n\u001b[1;32m--> 183\u001b[1;33m             values, _ = lib.maybe_convert_numeric(\n\u001b[0m\u001b[0;32m    184\u001b[0m                 \u001b[0mvalues\u001b[0m\u001b[1;33m,\u001b[0m \u001b[0mset\u001b[0m\u001b[1;33m(\u001b[0m\u001b[1;33m)\u001b[0m\u001b[1;33m,\u001b[0m \u001b[0mcoerce_numeric\u001b[0m\u001b[1;33m=\u001b[0m\u001b[0mcoerce_numeric\u001b[0m\u001b[1;33m\u001b[0m\u001b[1;33m\u001b[0m\u001b[0m\n\u001b[0;32m    185\u001b[0m             )\n",
      "\u001b[1;32m~\\anaconda3\\lib\\site-packages\\pandas\\_libs\\lib.pyx\u001b[0m in \u001b[0;36mpandas._libs.lib.maybe_convert_numeric\u001b[1;34m()\u001b[0m\n",
      "\u001b[1;31mValueError\u001b[0m: Unable to parse string \"14.6 9\" at position 165"
     ]
    }
   ],
   "source": [
    "df['DC']=pd.to_numeric(df['DC'])"
   ]
  },
  {
   "cell_type": "code",
   "execution_count": 76,
   "id": "0311997f",
   "metadata": {},
   "outputs": [],
   "source": [
    "df.loc[165,'DC']=14.6"
   ]
  },
  {
   "cell_type": "code",
   "execution_count": 77,
   "id": "4917ca0a",
   "metadata": {},
   "outputs": [],
   "source": [
    "df['DC']=pd.to_numeric(df['DC'])"
   ]
  },
  {
   "cell_type": "code",
   "execution_count": 80,
   "id": "76e3c6db",
   "metadata": {},
   "outputs": [
    {
     "data": {
      "text/plain": [
       "dtype('float64')"
      ]
     },
     "execution_count": 80,
     "metadata": {},
     "output_type": "execute_result"
    }
   ],
   "source": [
    "df['DC'].dtypes"
   ]
  },
  {
   "cell_type": "code",
   "execution_count": 82,
   "id": "2c806fbb",
   "metadata": {},
   "outputs": [
    {
     "data": {
      "image/png": "[encoded data removed]",
      "text/plain": [
       "<Figure size 432x288 with 1 Axes>"
      ]
     },
     "metadata": {
      "needs_background": "light"
     },
     "output_type": "display_data"
    }
   ],
   "source": [
    "plt.title(label=\"DC Frequency\")\n",
    "sns.histplot(df['DC'])\n",
    "plt.show()"
   ]
  },
  {
   "cell_type": "code",
   "execution_count": 81,
   "id": "85389cbd",
   "metadata": {},
   "outputs": [
    {
     "data": {
      "image/png": "[encoded data removed]",
      "text/plain": [
       "<Figure size 432x288 with 1 Axes>"
      ]
     },
     "metadata": {
      "needs_background": "light"
     },
     "output_type": "display_data"
    }
   ],
   "source": [
    "plt.title(label=\"DC Boxplot\")\n",
    "sns.boxplot(x=df['DC'])\n",
    "plt.show()"
   ]
  },
  {
   "cell_type": "markdown",
   "id": "a0681170",
   "metadata": {},
   "source": [
    "### 10) ISI (Initial Spread Index)\n",
    "The Initial Spread Index (ISI) is a numeric rating of the expected rate of fire spread. It is based on wind speed and FFMC"
   ]
  },
  {
   "cell_type": "code",
   "execution_count": 83,
   "id": "0bb16dc8",
   "metadata": {},
   "outputs": [
    {
     "data": {
      "text/plain": [
       "array(['1.3', '1', '0.3', '0', '1.2', '3.1', '6.4', '5.6', '0.4', '4',\n",
       "       '4.8', '0.5', '0.7', '2.5', '0.9', '2.6', '2.4', '3.3', '5.7',\n",
       "       '6.7', '9.2', '7.6', '2.2', '7.2', '1.1', '0.8', '2.7', '2.8', '6',\n",
       "       '1.5', '3', '1.4', '3.2', '4.6', '7.7', '5.2', '1.8', '10', '8.7',\n",
       "       '4.7', '6.8', '2', '1.7', '5.5', '6.9', '7.4', '7.1', '5.9', '3.7',\n",
       "       '9.7', '8.8', '9.9', '10.4', '9', '8.2', '4.4', '7.3', '12.5',\n",
       "       '0.6', '0.2', '0.1', '2.1', '1.9', '6.2', '7.8', '4.5', '5.4',\n",
       "       '8.4', '13.4', '5', '1.6', '4.9', '7', '8', '11.7', '11.3', '4.3',\n",
       "       '4.1', '8.3', '4.2', '10.9', '9.5', '18.5', '13.2', '13.8', '17.2',\n",
       "       '15.7', '19', '9.6', '16.6', '15.5', '7.5', '10.8', '3.5', '16',\n",
       "       '3.8', '5.1', '11.5', '12.2', '14.3', '13.1', '8.1', '9.8', '9.1',\n",
       "       '14.2', '11.2'], dtype=object)"
      ]
     },
     "execution_count": 83,
     "metadata": {},
     "output_type": "execute_result"
    }
   ],
   "source": [
    "df['ISI'].unique()"
   ]
  },
  {
   "cell_type": "code",
   "execution_count": 84,
   "id": "517df085",
   "metadata": {},
   "outputs": [],
   "source": [
    "df['ISI']=pd.to_numeric(df['ISI'])"
   ]
  },
  {
   "cell_type": "code",
   "execution_count": 85,
   "id": "1c75bc11",
   "metadata": {},
   "outputs": [
    {
     "data": {
      "text/plain": [
       "dtype('float64')"
      ]
     },
     "execution_count": 85,
     "metadata": {},
     "output_type": "execute_result"
    }
   ],
   "source": [
    "df['ISI'].dtypes"
   ]
  },
  {
   "cell_type": "code",
   "execution_count": 86,
   "id": "b6044912",
   "metadata": {},
   "outputs": [
    {
     "data": {
      "image/png": "[encoded data removed]",
      "text/plain": [
       "<Figure size 432x288 with 1 Axes>"
      ]
     },
     "metadata": {
      "needs_background": "light"
     },
     "output_type": "display_data"
    }
   ],
   "source": [
    "plt.title(label=\"ISI Frequency\")\n",
    "sns.histplot(df['ISI'])\n",
    "plt.show()"
   ]
  },
  {
   "cell_type": "code",
   "execution_count": 87,
   "id": "fbcb4ad5",
   "metadata": {},
   "outputs": [
    {
     "data": {
      "image/png": "[encoded data removed]",
      "text/plain": [
       "<Figure size 432x288 with 1 Axes>"
      ]
     },
     "metadata": {
      "needs_background": "light"
     },
     "output_type": "display_data"
    }
   ],
   "source": [
    "plt.title(label=\"ISI Boxplot\")\n",
    "sns.boxplot(x=df['ISI'])\n",
    "plt.show()"
   ]
  },
  {
   "cell_type": "markdown",
   "id": "699f1496",
   "metadata": {},
   "source": [
    "### 11) BUI (Buildup Index)\n",
    "The Build Up Index (BUI) is a numeric rating of the total amount of fuel available for combustion"
   ]
  },
  {
   "cell_type": "code",
   "execution_count": 88,
   "id": "16c81d03",
   "metadata": {},
   "outputs": [
    {
     "data": {
      "text/plain": [
       "array(['3.4', '3.9', '2.7', '1.7', '7', '10.9', '13.5', '10.5', '12.6',\n",
       "       '15.8', '17.7', '6.7', '4.4', '3', '2.2', '1.6', '2.4', '5.3',\n",
       "       '5.1', '8.4', '9.7', '11.5', '14.9', '18.3', '21.6', '25.8',\n",
       "       '29.7', '23.8', '28.3', '2.9', '2.8', '5.7', '9.1', '12.5', '12.1',\n",
       "       '15.4', '7.4', '5.8', '8.1', '9.2', '11.7', '5.9', '8.3', '11.1',\n",
       "       '14.2', '18.2', '16.5', '22.4', '21.7', '14.7', '18.5', '23.9',\n",
       "       '29.4', '32.1', '35', '37.4', '41.2', '4.7', '5.5', '8.2', '17.2',\n",
       "       '14.1', '17.9', '21.9', '25.5', '20.7', '24.4', '27.2', '22',\n",
       "       '17.6', '22.9', '27.5', '31.3', '34.7', '38.8', '43.1', '47.5',\n",
       "       '50.9', '54.7', '57.1', '59.3', '62.9', '67.4', '1.8', '1.1',\n",
       "       '5.6', '2.6', '3.7', '1.4', '4.2', '7.7', '11.3', '16', '19.2',\n",
       "       '12.9', '9.6', '6.2', '9', '6.8', '6.5', '9.3', '10.7', '7.3',\n",
       "       '13.1', '18', '21.2', '6.1', '7.1', '4.1', '3.8', '9.9', '12.7',\n",
       "       '16.4', '20.8', '27.1', '17.8', '3.3', '7.8', '10.3', '18.7',\n",
       "       '16.7', '13.7', '9.4', '10.4', '20.9', '27.7', '32.6', '39.5',\n",
       "       '44', '46.5', '11.4', '11.8', '15.7', '19.5', '10.6', '16.9',\n",
       "       '23.5', '6.9', '11', '18.4', '17.5', '22.3', '19', '24.2', '30.4',\n",
       "       '35.9', '35.5', '38.1', '41.3', '45.5', '50.2', '54.9', '59.5',\n",
       "       '64', '68', '30.6', '35.7', '39.3', '4', '6', '3.5', '6.4', '10',\n",
       "       '4.6', '6.6', '12.4', '14.3', '26.2', '28.2', '28.9', '32.4', '36',\n",
       "       '11.9', '4.8'], dtype=object)"
      ]
     },
     "execution_count": 88,
     "metadata": {},
     "output_type": "execute_result"
    }
   ],
   "source": [
    "df['BUI'].unique()"
   ]
  },
  {
   "cell_type": "code",
   "execution_count": 89,
   "id": "c37c4b7a",
   "metadata": {},
   "outputs": [],
   "source": [
    "df['BUI']=pd.to_numeric(df['BUI'])"
   ]
  },
  {
   "cell_type": "code",
   "execution_count": 90,
   "id": "b9b6d2d1",
   "metadata": {},
   "outputs": [
    {
     "data": {
      "text/plain": [
       "dtype('float64')"
      ]
     },
     "execution_count": 90,
     "metadata": {},
     "output_type": "execute_result"
    }
   ],
   "source": [
    "df['BUI'].dtypes"
   ]
  },
  {
   "cell_type": "code",
   "execution_count": 92,
   "id": "acf9a39f",
   "metadata": {},
   "outputs": [
    {
     "data": {
      "image/png": "[encoded data removed]",
      "text/plain": [
       "<Figure size 432x288 with 1 Axes>"
      ]
     },
     "metadata": {
      "needs_background": "light"
     },
     "output_type": "display_data"
    }
   ],
   "source": [
    "plt.title(label=\"BUI Frequency\")\n",
    "sns.histplot(df['BUI'])\n",
    "plt.show()"
   ]
  },
  {
   "cell_type": "code",
   "execution_count": 91,
   "id": "8cd4b305",
   "metadata": {},
   "outputs": [
    {
     "data": {
      "image/png": "[encoded data removed]",
      "text/plain": [
       "<Figure size 432x288 with 1 Axes>"
      ]
     },
     "metadata": {
      "needs_background": "light"
     },
     "output_type": "display_data"
    }
   ],
   "source": [
    "plt.title(label=\"BUI Boxplot\")\n",
    "sns.boxplot(x=df['BUI'])\n",
    "plt.show()"
   ]
  },
  {
   "cell_type": "markdown",
   "id": "45446aac",
   "metadata": {},
   "source": [
    "### 12) FWI (fire weather index)\n",
    "The Fire Weather Index (FWI) integrates current ISI and BUI to produce a unitless index of general fire intensity potential"
   ]
  },
  {
   "cell_type": "code",
   "execution_count": 95,
   "id": "df23ad10",
   "metadata": {},
   "outputs": [
    {
     "data": {
      "text/plain": [
       "array(['0.5', '0.4', '0.1', '0', '2.5', '7.2', '7.1', '0.3', '0.9', '5.6',\n",
       "       '7.1 ', '0.2', '1.4', '2.2', '2.3', '3.8', '7.5', '8.4', '10.6',\n",
       "       '15', '13.9', '3.9', '12.9', '1.7', '4.9', '6.8', '3.2', '8',\n",
       "       '0.6', '3.4', '0.8', '3.6', '6', '10.9', '4', '8.8', '2.8', '2.1',\n",
       "       '1.3', '7.3', '15.3', '11.3', '11.9', '10.7', '15.7', '6.1', '2.6',\n",
       "       '9.9', '11.6', '12.1', '4.2', '10.2', '6.3', '14.6', '16.1',\n",
       "       '17.2', '16.8', '18.4', '20.4', '22.3', '20.9', '20.3', '13.7',\n",
       "       '13.2', '19.9', '30.2', '5.9', '7.7', '9.7', '8.3', '0.7', '4.1',\n",
       "       '1', '3.1', '1.9', '10', '16.7', '1.2', '5.3', '6.7', '9.5', '12',\n",
       "       '6.4', '5.2', '3', '9.6', '4.7', 'fire   ', '14.1', '9.1', '13',\n",
       "       '17.3', '30', '25.4', '16.3', '9', '14.5', '13.5', '19.5', '12.6',\n",
       "       '12.7', '21.6', '18.8', '10.5', '5.5', '14.8', '24', '26.3',\n",
       "       '12.2', '18.1', '24.5', '26.9', '31.1', '30.3', '26.1', '16',\n",
       "       '19.4', '2.7', '3.7', '10.3', '5.7', '9.8', '19.3', '17.5', '15.4',\n",
       "       '15.2', '6.5'], dtype=object)"
      ]
     },
     "execution_count": 95,
     "metadata": {},
     "output_type": "execute_result"
    }
   ],
   "source": [
    "df['FWI'].unique()"
   ]
  },
  {
   "cell_type": "code",
   "execution_count": 105,
   "id": "4677e274",
   "metadata": {},
   "outputs": [],
   "source": [
    "df['FWI']=pd.to_numeric(df['FWI'])"
   ]
  },
  {
   "cell_type": "code",
   "execution_count": 103,
   "id": "5853b6a8",
   "metadata": {},
   "outputs": [],
   "source": [
    "df.loc[165,'FWI']=np.nan"
   ]
  },
  {
   "cell_type": "code",
   "execution_count": 110,
   "id": "9fbd8e3e",
   "metadata": {},
   "outputs": [],
   "source": [
    "df.loc[165,'FWI']=df['FWI'].median()"
   ]
  },
  {
   "cell_type": "code",
   "execution_count": 111,
   "id": "ccdf91fe",
   "metadata": {},
   "outputs": [
    {
     "data": {
      "text/plain": [
       "dtype('float64')"
      ]
     },
     "execution_count": 111,
     "metadata": {},
     "output_type": "execute_result"
    }
   ],
   "source": [
    "df['FWI'].dtypes"
   ]
  },
  {
   "cell_type": "code",
   "execution_count": 112,
   "id": "bce60f6d",
   "metadata": {},
   "outputs": [
    {
     "data": {
      "image/png": "[encoded data removed]",
      "text/plain": [
       "<Figure size 432x288 with 1 Axes>"
      ]
     },
     "metadata": {
      "needs_background": "light"
     },
     "output_type": "display_data"
    }
   ],
   "source": [
    "plt.title(label=\"FWI Frequency\")\n",
    "sns.histplot(df['FWI'])\n",
    "plt.show()"
   ]
  },
  {
   "cell_type": "code",
   "execution_count": 113,
   "id": "fd16a754",
   "metadata": {},
   "outputs": [
    {
     "data": {
      "image/png": "[encoded data removed]",
      "text/plain": [
       "<Figure size 432x288 with 1 Axes>"
      ]
     },
     "metadata": {
      "needs_background": "light"
     },
     "output_type": "display_data"
    }
   ],
   "source": [
    "plt.title(label=\"FWI Boxplot\")\n",
    "sns.boxplot(x=df['FWI'])\n",
    "plt.show()"
   ]
  },
  {
   "cell_type": "markdown",
   "id": "5bd7bddc",
   "metadata": {},
   "source": [
    "### 13) Region"
   ]
  },
  {
   "cell_type": "code",
   "execution_count": 118,
   "id": "31f3392f",
   "metadata": {},
   "outputs": [
    {
     "data": {
      "image/png": "[encoded data removed]",
      "text/plain": [
       "<Figure size 432x288 with 1 Axes>"
      ]
     },
     "metadata": {
      "needs_background": "light"
     },
     "output_type": "display_data"
    }
   ],
   "source": [
    "plt.title(label=\"Count of Bejaia and Sidi-Bel Abbes region\")\n",
    "sns.countplot(x=df['region'])\n",
    "plt.show()"
   ]
  },
  {
   "cell_type": "markdown",
   "id": "1ae0d827",
   "metadata": {},
   "source": [
    "### 14) Fire"
   ]
  },
  {
   "cell_type": "code",
   "execution_count": 121,
   "id": "8849ebc7",
   "metadata": {},
   "outputs": [
    {
     "data": {
      "image/png": "[encoded data removed]",
      "text/plain": [
       "<Figure size 432x288 with 1 Axes>"
      ]
     },
     "metadata": {
      "needs_background": "light"
     },
     "output_type": "display_data"
    }
   ],
   "source": [
    "plt.title(label=\"Count of Fire(1) and Not Fire(0)\")\n",
    "sns.countplot(x=df['Fire'])\n",
    "plt.show()"
   ]
  },
  {
   "cell_type": "markdown",
   "id": "ffbe8cc0",
   "metadata": {},
   "source": [
    "## <span style='color:Blue'>  Multivariate Analysis   </span>\n",
    "On 'Fire' column"
   ]
  },
  {
   "cell_type": "code",
   "execution_count": 122,
   "id": "af3e7f6e",
   "metadata": {},
   "outputs": [
    {
     "data": {
      "text/plain": [
       "Index(['day', 'month', 'Temperature', 'RH', 'Ws', 'Rain', 'FFMC', 'DMC', 'DC',\n",
       "       'ISI', 'BUI', 'FWI', 'region', 'Fire'],\n",
       "      dtype='object')"
      ]
     },
     "execution_count": 122,
     "metadata": {},
     "output_type": "execute_result"
    }
   ],
   "source": [
    "df.columns"
   ]
  },
  {
   "cell_type": "code",
   "execution_count": 204,
   "id": "4c415694",
   "metadata": {
    "scrolled": false
   },
   "outputs": [
    {
     "data": {
      "text/html": [
       "<div>\n",
       "<style scoped>\n",
       "    .dataframe tbody tr th:only-of-type {\n",
       "        vertical-align: middle;\n",
       "    }\n",
       "\n",
       "    .dataframe tbody tr th {\n",
       "        vertical-align: top;\n",
       "    }\n",
       "\n",
       "    .dataframe thead th {\n",
       "        text-align: right;\n",
       "    }\n",
       "</style>\n",
       "<table border=\"1\" class=\"dataframe\">\n",
       "  <thead>\n",
       "    <tr style=\"text-align: right;\">\n",
       "      <th></th>\n",
       "      <th>day</th>\n",
       "      <th>month</th>\n",
       "      <th>Temperature</th>\n",
       "      <th>RH</th>\n",
       "      <th>Ws</th>\n",
       "      <th>Rain</th>\n",
       "      <th>FFMC</th>\n",
       "      <th>DMC</th>\n",
       "      <th>DC</th>\n",
       "      <th>ISI</th>\n",
       "      <th>BUI</th>\n",
       "      <th>FWI</th>\n",
       "      <th>region</th>\n",
       "      <th>Fire</th>\n",
       "    </tr>\n",
       "  </thead>\n",
       "  <tbody>\n",
       "    <tr>\n",
       "      <th>day</th>\n",
       "      <td>1.000000e+00</td>\n",
       "      <td>2.232788e-17</td>\n",
       "      <td>0.095772</td>\n",
       "      <td>-0.074209</td>\n",
       "      <td>0.047001</td>\n",
       "      <td>-0.112265</td>\n",
       "      <td>0.224032</td>\n",
       "      <td>0.491571</td>\n",
       "      <td>0.527929</td>\n",
       "      <td>0.177727</td>\n",
       "      <td>0.517229</td>\n",
       "      <td>0.350960</td>\n",
       "      <td>4.662229e-16</td>\n",
       "      <td>0.201784</td>\n",
       "    </tr>\n",
       "    <tr>\n",
       "      <th>month</th>\n",
       "      <td>2.232788e-17</td>\n",
       "      <td>1.000000e+00</td>\n",
       "      <td>-0.059017</td>\n",
       "      <td>-0.037884</td>\n",
       "      <td>-0.041447</td>\n",
       "      <td>0.035322</td>\n",
       "      <td>0.015577</td>\n",
       "      <td>0.068178</td>\n",
       "      <td>0.127672</td>\n",
       "      <td>0.061680</td>\n",
       "      <td>0.085822</td>\n",
       "      <td>0.083285</td>\n",
       "      <td>-9.586232e-17</td>\n",
       "      <td>0.022333</td>\n",
       "    </tr>\n",
       "    <tr>\n",
       "      <th>Temperature</th>\n",
       "      <td>9.577222e-02</td>\n",
       "      <td>-5.901677e-02</td>\n",
       "      <td>1.000000</td>\n",
       "      <td>-0.654443</td>\n",
       "      <td>-0.278132</td>\n",
       "      <td>-0.326786</td>\n",
       "      <td>0.677491</td>\n",
       "      <td>0.483105</td>\n",
       "      <td>0.370498</td>\n",
       "      <td>0.607551</td>\n",
       "      <td>0.455504</td>\n",
       "      <td>0.562344</td>\n",
       "      <td>2.734961e-01</td>\n",
       "      <td>0.518119</td>\n",
       "    </tr>\n",
       "    <tr>\n",
       "      <th>RH</th>\n",
       "      <td>-7.420934e-02</td>\n",
       "      <td>-3.788419e-02</td>\n",
       "      <td>-0.654443</td>\n",
       "      <td>1.000000</td>\n",
       "      <td>0.236084</td>\n",
       "      <td>0.222968</td>\n",
       "      <td>-0.645658</td>\n",
       "      <td>-0.405133</td>\n",
       "      <td>-0.220330</td>\n",
       "      <td>-0.690637</td>\n",
       "      <td>-0.348587</td>\n",
       "      <td>-0.574773</td>\n",
       "      <td>-4.064239e-01</td>\n",
       "      <td>-0.435023</td>\n",
       "    </tr>\n",
       "    <tr>\n",
       "      <th>Ws</th>\n",
       "      <td>4.700086e-02</td>\n",
       "      <td>-4.144673e-02</td>\n",
       "      <td>-0.278132</td>\n",
       "      <td>0.236084</td>\n",
       "      <td>1.000000</td>\n",
       "      <td>0.170169</td>\n",
       "      <td>-0.163255</td>\n",
       "      <td>-0.001246</td>\n",
       "      <td>0.076245</td>\n",
       "      <td>0.015248</td>\n",
       "      <td>0.029756</td>\n",
       "      <td>0.030910</td>\n",
       "      <td>-1.768290e-01</td>\n",
       "      <td>-0.066529</td>\n",
       "    </tr>\n",
       "    <tr>\n",
       "      <th>Rain</th>\n",
       "      <td>-1.122654e-01</td>\n",
       "      <td>3.532207e-02</td>\n",
       "      <td>-0.326786</td>\n",
       "      <td>0.222968</td>\n",
       "      <td>0.170169</td>\n",
       "      <td>1.000000</td>\n",
       "      <td>-0.544045</td>\n",
       "      <td>-0.288548</td>\n",
       "      <td>-0.296804</td>\n",
       "      <td>-0.347105</td>\n",
       "      <td>-0.299171</td>\n",
       "      <td>-0.323831</td>\n",
       "      <td>-4.108006e-02</td>\n",
       "      <td>-0.379449</td>\n",
       "    </tr>\n",
       "    <tr>\n",
       "      <th>FFMC</th>\n",
       "      <td>2.240321e-01</td>\n",
       "      <td>1.557668e-02</td>\n",
       "      <td>0.677491</td>\n",
       "      <td>-0.645658</td>\n",
       "      <td>-0.163255</td>\n",
       "      <td>-0.544045</td>\n",
       "      <td>1.000000</td>\n",
       "      <td>0.602391</td>\n",
       "      <td>0.503910</td>\n",
       "      <td>0.739730</td>\n",
       "      <td>0.589652</td>\n",
       "      <td>0.688876</td>\n",
       "      <td>2.246798e-01</td>\n",
       "      <td>0.770114</td>\n",
       "    </tr>\n",
       "    <tr>\n",
       "      <th>DMC</th>\n",
       "      <td>4.915710e-01</td>\n",
       "      <td>6.817778e-02</td>\n",
       "      <td>0.483105</td>\n",
       "      <td>-0.405133</td>\n",
       "      <td>-0.001246</td>\n",
       "      <td>-0.288548</td>\n",
       "      <td>0.602391</td>\n",
       "      <td>1.000000</td>\n",
       "      <td>0.875358</td>\n",
       "      <td>0.674499</td>\n",
       "      <td>0.982073</td>\n",
       "      <td>0.875791</td>\n",
       "      <td>1.910937e-01</td>\n",
       "      <td>0.584188</td>\n",
       "    </tr>\n",
       "    <tr>\n",
       "      <th>DC</th>\n",
       "      <td>5.279285e-01</td>\n",
       "      <td>1.276719e-01</td>\n",
       "      <td>0.370498</td>\n",
       "      <td>-0.220330</td>\n",
       "      <td>0.076245</td>\n",
       "      <td>-0.296804</td>\n",
       "      <td>0.503910</td>\n",
       "      <td>0.875358</td>\n",
       "      <td>1.000000</td>\n",
       "      <td>0.498909</td>\n",
       "      <td>0.941904</td>\n",
       "      <td>0.739633</td>\n",
       "      <td>-8.148947e-02</td>\n",
       "      <td>0.507122</td>\n",
       "    </tr>\n",
       "    <tr>\n",
       "      <th>ISI</th>\n",
       "      <td>1.777266e-01</td>\n",
       "      <td>6.168011e-02</td>\n",
       "      <td>0.607551</td>\n",
       "      <td>-0.690637</td>\n",
       "      <td>0.015248</td>\n",
       "      <td>-0.347105</td>\n",
       "      <td>0.739730</td>\n",
       "      <td>0.674499</td>\n",
       "      <td>0.498909</td>\n",
       "      <td>1.000000</td>\n",
       "      <td>0.635891</td>\n",
       "      <td>0.913163</td>\n",
       "      <td>2.684206e-01</td>\n",
       "      <td>0.735511</td>\n",
       "    </tr>\n",
       "    <tr>\n",
       "      <th>BUI</th>\n",
       "      <td>5.172292e-01</td>\n",
       "      <td>8.582162e-02</td>\n",
       "      <td>0.455504</td>\n",
       "      <td>-0.348587</td>\n",
       "      <td>0.029756</td>\n",
       "      <td>-0.299171</td>\n",
       "      <td>0.589652</td>\n",
       "      <td>0.982073</td>\n",
       "      <td>0.941904</td>\n",
       "      <td>0.635891</td>\n",
       "      <td>1.000000</td>\n",
       "      <td>0.858065</td>\n",
       "      <td>8.736964e-02</td>\n",
       "      <td>0.583882</td>\n",
       "    </tr>\n",
       "    <tr>\n",
       "      <th>FWI</th>\n",
       "      <td>3.509598e-01</td>\n",
       "      <td>8.328546e-02</td>\n",
       "      <td>0.562344</td>\n",
       "      <td>-0.574773</td>\n",
       "      <td>0.030910</td>\n",
       "      <td>-0.323831</td>\n",
       "      <td>0.688876</td>\n",
       "      <td>0.875791</td>\n",
       "      <td>0.739633</td>\n",
       "      <td>0.913163</td>\n",
       "      <td>0.858065</td>\n",
       "      <td>1.000000</td>\n",
       "      <td>1.950699e-01</td>\n",
       "      <td>0.716490</td>\n",
       "    </tr>\n",
       "    <tr>\n",
       "      <th>region</th>\n",
       "      <td>4.662229e-16</td>\n",
       "      <td>-9.586232e-17</td>\n",
       "      <td>0.273496</td>\n",
       "      <td>-0.406424</td>\n",
       "      <td>-0.176829</td>\n",
       "      <td>-0.041080</td>\n",
       "      <td>0.224680</td>\n",
       "      <td>0.191094</td>\n",
       "      <td>-0.081489</td>\n",
       "      <td>0.268421</td>\n",
       "      <td>0.087370</td>\n",
       "      <td>0.195070</td>\n",
       "      <td>1.000000e+00</td>\n",
       "      <td>0.165363</td>\n",
       "    </tr>\n",
       "    <tr>\n",
       "      <th>Fire</th>\n",
       "      <td>2.017844e-01</td>\n",
       "      <td>2.233266e-02</td>\n",
       "      <td>0.518119</td>\n",
       "      <td>-0.435023</td>\n",
       "      <td>-0.066529</td>\n",
       "      <td>-0.379449</td>\n",
       "      <td>0.770114</td>\n",
       "      <td>0.584188</td>\n",
       "      <td>0.507122</td>\n",
       "      <td>0.735511</td>\n",
       "      <td>0.583882</td>\n",
       "      <td>0.716490</td>\n",
       "      <td>1.653627e-01</td>\n",
       "      <td>1.000000</td>\n",
       "    </tr>\n",
       "  </tbody>\n",
       "</table>\n",
       "</div>"
      ],
      "text/plain": [
       "                      day         month  Temperature        RH        Ws  \\\n",
       "day          1.000000e+00  2.232788e-17     0.095772 -0.074209  0.047001   \n",
       "month        2.232788e-17  1.000000e+00    -0.059017 -0.037884 -0.041447   \n",
       "Temperature  9.577222e-02 -5.901677e-02     1.000000 -0.654443 -0.278132   \n",
       "RH          -7.420934e-02 -3.788419e-02    -0.654443  1.000000  0.236084   \n",
       "Ws           4.700086e-02 -4.144673e-02    -0.278132  0.236084  1.000000   \n",
       "Rain        -1.122654e-01  3.532207e-02    -0.326786  0.222968  0.170169   \n",
       "FFMC         2.240321e-01  1.557668e-02     0.677491 -0.645658 -0.163255   \n",
       "DMC          4.915710e-01  6.817778e-02     0.483105 -0.405133 -0.001246   \n",
       "DC           5.279285e-01  1.276719e-01     0.370498 -0.220330  0.076245   \n",
       "ISI          1.777266e-01  6.168011e-02     0.607551 -0.690637  0.015248   \n",
       "BUI          5.172292e-01  8.582162e-02     0.455504 -0.348587  0.029756   \n",
       "FWI          3.509598e-01  8.328546e-02     0.562344 -0.574773  0.030910   \n",
       "region       4.662229e-16 -9.586232e-17     0.273496 -0.406424 -0.176829   \n",
       "Fire         2.017844e-01  2.233266e-02     0.518119 -0.435023 -0.066529   \n",
       "\n",
       "                 Rain      FFMC       DMC        DC       ISI       BUI  \\\n",
       "day         -0.112265  0.224032  0.491571  0.527929  0.177727  0.517229   \n",
       "month        0.035322  0.015577  0.068178  0.127672  0.061680  0.085822   \n",
       "Temperature -0.326786  0.677491  0.483105  0.370498  0.607551  0.455504   \n",
       "RH           0.222968 -0.645658 -0.405133 -0.220330 -0.690637 -0.348587   \n",
       "Ws           0.170169 -0.163255 -0.001246  0.076245  0.015248  0.029756   \n",
       "Rain         1.000000 -0.544045 -0.288548 -0.296804 -0.347105 -0.299171   \n",
       "FFMC        -0.544045  1.000000  0.602391  0.503910  0.739730  0.589652   \n",
       "DMC         -0.288548  0.602391  1.000000  0.875358  0.674499  0.982073   \n",
       "DC          -0.296804  0.503910  0.875358  1.000000  0.498909  0.941904   \n",
       "ISI         -0.347105  0.739730  0.674499  0.498909  1.000000  0.635891   \n",
       "BUI         -0.299171  0.589652  0.982073  0.941904  0.635891  1.000000   \n",
       "FWI         -0.323831  0.688876  0.875791  0.739633  0.913163  0.858065   \n",
       "region      -0.041080  0.224680  0.191094 -0.081489  0.268421  0.087370   \n",
       "Fire        -0.379449  0.770114  0.584188  0.507122  0.735511  0.583882   \n",
       "\n",
       "                  FWI        region      Fire  \n",
       "day          0.350960  4.662229e-16  0.201784  \n",
       "month        0.083285 -9.586232e-17  0.022333  \n",
       "Temperature  0.562344  2.734961e-01  0.518119  \n",
       "RH          -0.574773 -4.064239e-01 -0.435023  \n",
       "Ws           0.030910 -1.768290e-01 -0.066529  \n",
       "Rain        -0.323831 -4.108006e-02 -0.379449  \n",
       "FFMC         0.688876  2.246798e-01  0.770114  \n",
       "DMC          0.875791  1.910937e-01  0.584188  \n",
       "DC           0.739633 -8.148947e-02  0.507122  \n",
       "ISI          0.913163  2.684206e-01  0.735511  \n",
       "BUI          0.858065  8.736964e-02  0.583882  \n",
       "FWI          1.000000  1.950699e-01  0.716490  \n",
       "region       0.195070  1.000000e+00  0.165363  \n",
       "Fire         0.716490  1.653627e-01  1.000000  "
      ]
     },
     "execution_count": 204,
     "metadata": {},
     "output_type": "execute_result"
    }
   ],
   "source": [
    "df.corr()"
   ]
  },
  {
   "cell_type": "code",
   "execution_count": 208,
   "id": "4deeafdf",
   "metadata": {},
   "outputs": [
    {
     "data": {
      "image/png": "[encoded data removed]",
      "text/plain": [
       "<Figure size 1080x720 with 2 Axes>"
      ]
     },
     "metadata": {
      "needs_background": "light"
     },
     "output_type": "display_data"
    }
   ],
   "source": [
    "plt.figure(figsize=(15,10))\n",
    "sns.heatmap(df.corr(),annot=True,cmap='CMRmap')\n",
    "plt.show()"
   ]
  },
  {
   "cell_type": "markdown",
   "id": "d043284a",
   "metadata": {},
   "source": [
    "### Relation of other variable with 'Rain'"
   ]
  },
  {
   "cell_type": "code",
   "execution_count": 137,
   "id": "0644d9bd",
   "metadata": {
    "scrolled": false
   },
   "outputs": [
    {
     "data": {
      "image/png": "[encoded data removed]",
      "text/plain": [
       "<Figure size 540x180 with 3 Axes>"
      ]
     },
     "metadata": {
      "needs_background": "light"
     },
     "output_type": "display_data"
    }
   ],
   "source": [
    "sns.pairplot(data=df, x_vars=['Temperature', 'RH', 'Ws'], y_vars=['Rain'])\n",
    "plt.show()"
   ]
  },
  {
   "cell_type": "code",
   "execution_count": 136,
   "id": "dcfea846",
   "metadata": {},
   "outputs": [
    {
     "data": {
      "image/png": "[encoded data removed]",
      "text/plain": [
       "<Figure size 1080x180 with 6 Axes>"
      ]
     },
     "metadata": {
      "needs_background": "light"
     },
     "output_type": "display_data"
    }
   ],
   "source": [
    "sns.pairplot(data=df, x_vars=['FFMC', 'DMC', 'DC', 'ISI', 'BUI', 'FWI'], y_vars=['Rain'])\n",
    "plt.show()"
   ]
  },
  {
   "cell_type": "markdown",
   "id": "f9456b64",
   "metadata": {},
   "source": [
    "### Relation of other variable with 'Temperature'"
   ]
  },
  {
   "cell_type": "code",
   "execution_count": 139,
   "id": "b13e2b8d",
   "metadata": {
    "scrolled": true
   },
   "outputs": [
    {
     "data": {
      "image/png": "[encoded data removed]",
      "text/plain": [
       "<Figure size 540x180 with 3 Axes>"
      ]
     },
     "metadata": {
      "needs_background": "light"
     },
     "output_type": "display_data"
    }
   ],
   "source": [
    "sns.pairplot(data=df, x_vars=['Rain', 'RH', 'Ws'], y_vars=['Temperature'])\n",
    "plt.show()"
   ]
  },
  {
   "cell_type": "markdown",
   "id": "94988111",
   "metadata": {},
   "source": [
    "### Observation:\n",
    "Temperature is <b>negatively correlated</b> with 'RH' and 'Ws'"
   ]
  },
  {
   "cell_type": "code",
   "execution_count": 138,
   "id": "cc2646b3",
   "metadata": {
    "scrolled": false
   },
   "outputs": [
    {
     "data": {
      "image/png": "[encoded data removed]",
      "text/plain": [
       "<Figure size 1080x180 with 6 Axes>"
      ]
     },
     "metadata": {
      "needs_background": "light"
     },
     "output_type": "display_data"
    }
   ],
   "source": [
    "sns.pairplot(data=df, x_vars=['FFMC', 'DMC', 'DC', 'ISI', 'BUI', 'FWI'], y_vars=['Temperature'])\n",
    "plt.show()"
   ]
  },
  {
   "cell_type": "markdown",
   "id": "3ee33c46",
   "metadata": {},
   "source": [
    "### Observation:\n",
    "Temperature is <b>positively correlated</b> with 'FFMC', 'DMC', 'DC', 'ISI', 'BUI', 'FWI'"
   ]
  },
  {
   "cell_type": "code",
   "execution_count": 198,
   "id": "5da02877",
   "metadata": {},
   "outputs": [
    {
     "data": {
      "text/html": [
       "<div>\n",
       "<style scoped>\n",
       "    .dataframe tbody tr th:only-of-type {\n",
       "        vertical-align: middle;\n",
       "    }\n",
       "\n",
       "    .dataframe tbody tr th {\n",
       "        vertical-align: top;\n",
       "    }\n",
       "\n",
       "    .dataframe thead th {\n",
       "        text-align: right;\n",
       "    }\n",
       "</style>\n",
       "<table border=\"1\" class=\"dataframe\">\n",
       "  <thead>\n",
       "    <tr style=\"text-align: right;\">\n",
       "      <th></th>\n",
       "      <th></th>\n",
       "      <th>Fire</th>\n",
       "    </tr>\n",
       "    <tr>\n",
       "      <th>region</th>\n",
       "      <th>Fire</th>\n",
       "      <th></th>\n",
       "    </tr>\n",
       "  </thead>\n",
       "  <tbody>\n",
       "    <tr>\n",
       "      <th rowspan=\"2\" valign=\"top\">0.0</th>\n",
       "      <th>0</th>\n",
       "      <td>63</td>\n",
       "    </tr>\n",
       "    <tr>\n",
       "      <th>1</th>\n",
       "      <td>59</td>\n",
       "    </tr>\n",
       "    <tr>\n",
       "      <th rowspan=\"2\" valign=\"top\">1.0</th>\n",
       "      <th>1</th>\n",
       "      <td>79</td>\n",
       "    </tr>\n",
       "    <tr>\n",
       "      <th>0</th>\n",
       "      <td>43</td>\n",
       "    </tr>\n",
       "  </tbody>\n",
       "</table>\n",
       "</div>"
      ],
      "text/plain": [
       "             Fire\n",
       "region Fire      \n",
       "0.0    0       63\n",
       "       1       59\n",
       "1.0    1       79\n",
       "       0       43"
      ]
     },
     "execution_count": 198,
     "metadata": {},
     "output_type": "execute_result"
    }
   ],
   "source": [
    "# 'Bejaia' region: 0 & 'Sidi-Bel Abbes' region: 1\n",
    "pd.DataFrame(df.groupby('region')['Fire'].value_counts())"
   ]
  },
  {
   "cell_type": "code",
   "execution_count": 153,
   "id": "7d5ce035",
   "metadata": {
    "scrolled": true
   },
   "outputs": [
    {
     "data": {
      "image/png": "[encoded data removed]",
      "text/plain": [
       "<Figure size 432x288 with 1 Axes>"
      ]
     },
     "metadata": {
      "needs_background": "light"
     },
     "output_type": "display_data"
    }
   ],
   "source": [
    "plt.title(label=\"'Bejaia' region: 0 & 'Sidi-Bel Abbes' region: 1\")\n",
    "sns.lineplot(data=df, x='region', y='Fire')\n",
    "plt.show()"
   ]
  },
  {
   "cell_type": "code",
   "execution_count": 155,
   "id": "9da7451d",
   "metadata": {
    "scrolled": false
   },
   "outputs": [
    {
     "data": {
      "image/png": "[encoded data removed]",
      "text/plain": [
       "<Figure size 360x360 with 1 Axes>"
      ]
     },
     "metadata": {
      "needs_background": "light"
     },
     "output_type": "display_data"
    }
   ],
   "source": [
    "sns.displot(data=df, x='region', y='Rain')\n",
    "plt.show()"
   ]
  },
  {
   "cell_type": "markdown",
   "id": "e0b506cb",
   "metadata": {},
   "source": [
    "### Observation:\n",
    "1. <b>'Bejaia'</b> region has <b>more Rainfall</b> therefore it has <b>less fire</b>\n",
    "2. <b>'Sidi-Bel Abbes'</b> region has <b>less Rainfall</b> therefore it has <b>more fire</b>"
   ]
  },
  {
   "cell_type": "markdown",
   "id": "44c33f80",
   "metadata": {},
   "source": [
    "### <span style='color:Blue'>  Summary </span>\n",
    "1. ['RH', 'Ws', 'FFMC', 'DMC', 'DC', 'ISI', 'BUI', 'FWI'] can be used to predict the Fire \n",
    "2. Rainfall can be one of the reason for less forest fire\n"
   ]
  }
 ],
 "metadata": {
  "kernelspec": {
   "display_name": "Python 3 (ipykernel)",
   "language": "python",
   "name": "python3"
  },
  "language_info": {
   "codemirror_mode": {
    "name": "ipython",
    "version": 3
   },
   "file_extension": ".py",
   "mimetype": "text/x-python",
   "name": "python",
   "nbconvert_exporter": "python",
   "pygments_lexer": "ipython3",
   "version": "3.9.7"
  }
 },
 "nbformat": 4,
 "nbformat_minor": 5
}
